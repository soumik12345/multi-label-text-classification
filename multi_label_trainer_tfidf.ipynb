{
  "nbformat": 4,
  "nbformat_minor": 0,
  "metadata": {
    "accelerator": "GPU",
    "colab": {
      "name": "multi_label_trainer_tfidf.ipynb",
      "provenance": [],
      "collapsed_sections": []
    },
    "kernelspec": {
      "display_name": "Python 3 (ipykernel)",
      "language": "python",
      "name": "python3"
    },
    "language_info": {
      "codemirror_mode": {
        "name": "ipython",
        "version": 3
      },
      "file_extension": ".py",
      "mimetype": "text/x-python",
      "name": "python",
      "nbconvert_exporter": "python",
      "pygments_lexer": "ipython3",
      "version": "3.8.2"
    }
  },
  "cells": [
    {
      "cell_type": "markdown",
      "metadata": {
        "id": "Q9ZG7WNCHNqw"
      },
      "source": [
        "## Introduction\n",
        "\n",
        "In this example, we will build a multi-label text classifier to predict the subject areas of arXiv papers from their abstract bodies. This type of classifier can be useful for conference submission portals like [OpenReview](https://openreview.net/). Given a paper abstract, the portal could provide suggestions on which areas the underlying paper would best belong to.\n",
        "\n",
        "The dataset was collected using the [`arXiv` Python library](https://github.com/lukasschwab/arxiv.py) that provides a wrapper around the [original arXiv API](http://arxiv.org/help/api/index). To know more, please refer to [this notebook](https://github.com/soumik12345/multi-label-text-classification/blob/master/arxiv_scrape.ipynb). "
      ]
    },
    {
      "cell_type": "markdown",
      "metadata": {
        "id": "5GICQpY-zws7"
      },
      "source": [
        "## Imports"
      ]
    },
    {
      "cell_type": "code",
      "metadata": {
        "id": "ho5uPff1fLoH"
      },
      "source": [
        "from tensorflow.keras import layers\n",
        "from tensorflow import keras\n",
        "import tensorflow as tf\n",
        "\n",
        "from sklearn.preprocessing import MultiLabelBinarizer\n",
        "from sklearn.model_selection import train_test_split\n",
        "import matplotlib.pyplot as plt\n",
        "from ast import literal_eval\n",
        "import pandas as pd\n",
        "import numpy as np"
      ],
      "execution_count": 28,
      "outputs": []
    },
    {
      "cell_type": "markdown",
      "metadata": {
        "id": "qyeQtKSezymP"
      },
      "source": [
        "## Read data and perform basic EDA\n",
        "\n",
        "In this section, we first load the dataset into a `pandas` dataframe and then perform some basic exploratory data analysis (EDA)."
      ]
    },
    {
      "cell_type": "code",
      "metadata": {
        "colab": {
          "base_uri": "https://localhost:8080/",
          "height": 287
        },
        "id": "yFo2pNYbf2Du",
        "outputId": "a0478ffb-4612-4f5b-846b-8b33a502bfed"
      },
      "source": [
        "arxiv_data = pd.read_csv(\n",
        "    \"https://github.com/soumik12345/multi-label-text-classification/releases/download/v0.2/arxiv_data.csv\"\n",
        ")\n",
        "arxiv_data.head()"
      ],
      "execution_count": null,
      "outputs": [
        {
          "output_type": "execute_result",
          "data": {
            "text/html": [
              "<div>\n",
              "<style scoped>\n",
              "    .dataframe tbody tr th:only-of-type {\n",
              "        vertical-align: middle;\n",
              "    }\n",
              "\n",
              "    .dataframe tbody tr th {\n",
              "        vertical-align: top;\n",
              "    }\n",
              "\n",
              "    .dataframe thead th {\n",
              "        text-align: right;\n",
              "    }\n",
              "</style>\n",
              "<table border=\"1\" class=\"dataframe\">\n",
              "  <thead>\n",
              "    <tr style=\"text-align: right;\">\n",
              "      <th></th>\n",
              "      <th>titles</th>\n",
              "      <th>summaries</th>\n",
              "      <th>terms</th>\n",
              "    </tr>\n",
              "  </thead>\n",
              "  <tbody>\n",
              "    <tr>\n",
              "      <th>0</th>\n",
              "      <td>Survey on Semantic Stereo Matching / Semantic ...</td>\n",
              "      <td>Stereo matching is one of the widely used tech...</td>\n",
              "      <td>['cs.CV', 'cs.LG']</td>\n",
              "    </tr>\n",
              "    <tr>\n",
              "      <th>1</th>\n",
              "      <td>FUTURE-AI: Guiding Principles and Consensus Re...</td>\n",
              "      <td>The recent advancements in artificial intellig...</td>\n",
              "      <td>['cs.CV', 'cs.AI', 'cs.LG']</td>\n",
              "    </tr>\n",
              "    <tr>\n",
              "      <th>2</th>\n",
              "      <td>Enforcing Mutual Consistency of Hard Regions f...</td>\n",
              "      <td>In this paper, we proposed a novel mutual cons...</td>\n",
              "      <td>['cs.CV', 'cs.AI']</td>\n",
              "    </tr>\n",
              "    <tr>\n",
              "      <th>3</th>\n",
              "      <td>Parameter Decoupling Strategy for Semi-supervi...</td>\n",
              "      <td>Consistency training has proven to be an advan...</td>\n",
              "      <td>['cs.CV']</td>\n",
              "    </tr>\n",
              "    <tr>\n",
              "      <th>4</th>\n",
              "      <td>Background-Foreground Segmentation for Interio...</td>\n",
              "      <td>To ensure safety in automated driving, the cor...</td>\n",
              "      <td>['cs.CV', 'cs.LG']</td>\n",
              "    </tr>\n",
              "  </tbody>\n",
              "</table>\n",
              "</div>"
            ],
            "text/plain": [
              "                                              titles  ...                        terms\n",
              "0  Survey on Semantic Stereo Matching / Semantic ...  ...           ['cs.CV', 'cs.LG']\n",
              "1  FUTURE-AI: Guiding Principles and Consensus Re...  ...  ['cs.CV', 'cs.AI', 'cs.LG']\n",
              "2  Enforcing Mutual Consistency of Hard Regions f...  ...           ['cs.CV', 'cs.AI']\n",
              "3  Parameter Decoupling Strategy for Semi-supervi...  ...                    ['cs.CV']\n",
              "4  Background-Foreground Segmentation for Interio...  ...           ['cs.CV', 'cs.LG']\n",
              "\n",
              "[5 rows x 3 columns]"
            ]
          },
          "metadata": {},
          "execution_count": 2
        }
      ]
    },
    {
      "cell_type": "markdown",
      "metadata": {
        "id": "djk-kXWvHNq3"
      },
      "source": [
        "Our text features are present in the `summaries` column and their corresponding labels are in `terms`. As we can notice there are multiple categories associated with a particular entry. "
      ]
    },
    {
      "cell_type": "code",
      "metadata": {
        "colab": {
          "base_uri": "https://localhost:8080/"
        },
        "id": "Em_8mJvUgKY-",
        "outputId": "8ce024c1-2745-4ab2-dd18-2b153784b4fc"
      },
      "source": [
        "print(f\"There are {len(arxiv_data)} rows in the dataset.\")"
      ],
      "execution_count": null,
      "outputs": [
        {
          "output_type": "stream",
          "name": "stdout",
          "text": [
            "There are 51774 rows in the dataset.\n"
          ]
        }
      ]
    },
    {
      "cell_type": "markdown",
      "metadata": {
        "id": "P3bYjP_0HNq4"
      },
      "source": [
        "Real-world data is noisy. One of the most commonly observed such noise is data duplication. Here we notice that our initial dataset has got about 13k duplicate entries. "
      ]
    },
    {
      "cell_type": "code",
      "metadata": {
        "colab": {
          "base_uri": "https://localhost:8080/"
        },
        "id": "k9Vb9jtK5zjg",
        "outputId": "92e336c0-921a-4412-87ba-e3872333e3ff"
      },
      "source": [
        "total_duplicate_titles = sum(arxiv_data[\"titles\"].duplicated())\n",
        "print(f\"There are {total_duplicate_titles} duplicate titles.\")"
      ],
      "execution_count": null,
      "outputs": [
        {
          "output_type": "stream",
          "name": "stdout",
          "text": [
            "There are 12802 duplicate titles.\n"
          ]
        }
      ]
    },
    {
      "cell_type": "markdown",
      "metadata": {
        "id": "sEBbarGSHNq5"
      },
      "source": [
        "Before proceeding further we first drop these entries. "
      ]
    },
    {
      "cell_type": "code",
      "metadata": {
        "colab": {
          "base_uri": "https://localhost:8080/"
        },
        "id": "2259X-rf6OLY",
        "outputId": "08d73f4b-f0a0-46bd-9744-01b0e22f6a92"
      },
      "source": [
        "arxiv_data = arxiv_data[~arxiv_data[\"titles\"].duplicated()]\n",
        "print(f\"There are {len(arxiv_data)} rows in the deduplicated dataset.\")"
      ],
      "execution_count": null,
      "outputs": [
        {
          "output_type": "stream",
          "name": "stdout",
          "text": [
            "There are 38972 rows in the deduplicated dataset.\n"
          ]
        }
      ]
    },
    {
      "cell_type": "code",
      "metadata": {
        "colab": {
          "base_uri": "https://localhost:8080/"
        },
        "id": "TmgkCCr2g0w5",
        "outputId": "18a6bd58-e511-405f-c19e-15c40c8955c9"
      },
      "source": [
        "# There are some terms with occurrence as low as 1.\n",
        "print(sum(arxiv_data[\"terms\"].value_counts() == 1))"
      ],
      "execution_count": null,
      "outputs": [
        {
          "output_type": "stream",
          "name": "stdout",
          "text": [
            "2321\n"
          ]
        }
      ]
    },
    {
      "cell_type": "code",
      "metadata": {
        "colab": {
          "base_uri": "https://localhost:8080/"
        },
        "id": "hyBJNHMdifJ-",
        "outputId": "0a098fa6-2723-42b9-b70b-f18bc9c11f3b"
      },
      "source": [
        "# How many unique terms?\n",
        "print(arxiv_data[\"terms\"].nunique())"
      ],
      "execution_count": null,
      "outputs": [
        {
          "output_type": "stream",
          "name": "stdout",
          "text": [
            "3157\n"
          ]
        }
      ]
    },
    {
      "cell_type": "markdown",
      "metadata": {
        "id": "dPvNGph0HNq7"
      },
      "source": [
        "As observed above, out of 3157 unique combinations of `terms`, 2321 entries have the lowest occurrence. To prepare our train, validation, and test sets with [stratification](https://en.wikipedia.org/wiki/Stratified_sampling), we need to drop these terms. "
      ]
    },
    {
      "cell_type": "code",
      "metadata": {
        "colab": {
          "base_uri": "https://localhost:8080/"
        },
        "id": "77ZoCzrMhLxc",
        "outputId": "ee113f1e-23e3-4fd8-8ecd-4231df22da22"
      },
      "source": [
        "# Filtering the rare terms.\n",
        "arxiv_data_filtered = arxiv_data.groupby(\"terms\").filter(lambda x: len(x) > 1)\n",
        "arxiv_data_filtered.shape"
      ],
      "execution_count": null,
      "outputs": [
        {
          "output_type": "execute_result",
          "data": {
            "text/plain": [
              "(36651, 3)"
            ]
          },
          "metadata": {},
          "execution_count": 8
        }
      ]
    },
    {
      "cell_type": "markdown",
      "metadata": {
        "id": "MxrG9tim0QNr"
      },
      "source": [
        "## Convert the string labels to list of strings\n",
        "\n",
        "The initial labels are represented as raw strings. Here we make them `List[str]` for a more compact representation. "
      ]
    },
    {
      "cell_type": "code",
      "metadata": {
        "colab": {
          "base_uri": "https://localhost:8080/"
        },
        "id": "LIEGLc61iwbQ",
        "outputId": "e5612b8b-145c-45b7-f6ed-1273ec8bd538"
      },
      "source": [
        "arxiv_data_filtered[\"terms\"] = arxiv_data_filtered[\"terms\"].apply(\n",
        "    lambda x: literal_eval(x)\n",
        ")\n",
        "arxiv_data_filtered[\"terms\"].values[:5]"
      ],
      "execution_count": null,
      "outputs": [
        {
          "output_type": "execute_result",
          "data": {
            "text/plain": [
              "array([list(['cs.CV', 'cs.LG']), list(['cs.CV', 'cs.AI', 'cs.LG']),\n",
              "       list(['cs.CV', 'cs.AI']), list(['cs.CV']),\n",
              "       list(['cs.CV', 'cs.LG'])], dtype=object)"
            ]
          },
          "metadata": {},
          "execution_count": 9
        }
      ]
    },
    {
      "cell_type": "markdown",
      "metadata": {
        "id": "zjFB8Uoo0cXM"
      },
      "source": [
        "## Stratified splits because of class imbalance\n",
        "\n",
        "The dataset has a [class imbalance problem](https://developers.google.com/machine-learning/glossary/#class-imbalanced-dataset). So, to have a fair evaluation result, we need to ensure the datasets are sampled with stratification. To know more about different strategies to deal with the class imbalance problem, you can follow [this tutorial](https://www.tensorflow.org/tutorials/structured_data/imbalanced_data). For an end-to-end demonstration of classification with imbablanced data, refer to [Imbalanced classification: credit card fraud detection](https://keras.io/examples/structured_data/imbalanced_classification/)."
      ]
    },
    {
      "cell_type": "code",
      "metadata": {
        "colab": {
          "base_uri": "https://localhost:8080/"
        },
        "id": "EbKDVTKPgOKe",
        "outputId": "f16da845-9641-42dd-c387-649facc014a9"
      },
      "source": [
        "test_split = 0.1\n",
        "\n",
        "# Initial train and test split.\n",
        "train_df, test_df = train_test_split(\n",
        "    arxiv_data_filtered,\n",
        "    test_size=test_split,\n",
        "    stratify=arxiv_data_filtered[\"terms\"].values,\n",
        ")\n",
        "\n",
        "# Splitting the test set further into validation\n",
        "# and new test sets.\n",
        "val_df = test_df.sample(frac=0.5)\n",
        "test_df.drop(val_df.index, inplace=True)\n",
        "\n",
        "print(f\"Number of rows in training set: {len(train_df)}\")\n",
        "print(f\"Number of rows in validation set: {len(val_df)}\")\n",
        "print(f\"Number of rows in test set: {len(test_df)}\")"
      ],
      "execution_count": null,
      "outputs": [
        {
          "output_type": "stream",
          "name": "stdout",
          "text": [
            "Number of rows in training set: 32985\n",
            "Number of rows in validation set: 1833\n",
            "Number of rows in test set: 1833\n"
          ]
        },
        {
          "output_type": "stream",
          "name": "stderr",
          "text": [
            "/usr/local/lib/python3.7/dist-packages/pandas/core/frame.py:4174: SettingWithCopyWarning: \n",
            "A value is trying to be set on a copy of a slice from a DataFrame\n",
            "\n",
            "See the caveats in the documentation: https://pandas.pydata.org/pandas-docs/stable/user_guide/indexing.html#returning-a-view-versus-a-copy\n",
            "  errors=errors,\n"
          ]
        }
      ]
    },
    {
      "cell_type": "markdown",
      "metadata": {
        "id": "96Ew2PPI0lVc"
      },
      "source": [
        "## Multi-label binarization\n",
        "\n",
        "Now we preprocess our labels using [`MultiLabelBinarizer`](http://scikit-learn.org/stable/modules/generated/sklearn.preprocessing.MultiLabelBinarizer.html). "
      ]
    },
    {
      "cell_type": "code",
      "metadata": {
        "colab": {
          "base_uri": "https://localhost:8080/"
        },
        "id": "1vgxbdwGf07E",
        "outputId": "1786e58c-9f56-4c14-f9cb-1f4da7fdad85"
      },
      "source": [
        "mlb = MultiLabelBinarizer()\n",
        "mlb.fit_transform(train_df[\"terms\"])\n",
        "mlb.classes_"
      ],
      "execution_count": null,
      "outputs": [
        {
          "output_type": "execute_result",
          "data": {
            "text/plain": [
              "array(['14J60 (Primary) 14F05, 14J26 (Secondary)', '62H30', '62H35',\n",
              "       '62H99', '65D19', '68', '68Q32', '68T01', '68T05', '68T07',\n",
              "       '68T10', '68T30', '68T45', '68T99', '68Txx', '68U01', '68U10',\n",
              "       'E.5; E.4; E.2; H.1.1; F.1.1; F.1.3', 'F.2.2; I.2.7', 'G.3',\n",
              "       'H.3.1; H.3.3; I.2.6; I.2.7', 'H.3.1; I.2.6; I.2.7', 'I.2',\n",
              "       'I.2.0; I.2.6', 'I.2.1', 'I.2.10', 'I.2.10; I.2.6',\n",
              "       'I.2.10; I.4.8', 'I.2.10; I.4.8; I.5.4', 'I.2.10; I.4; I.5',\n",
              "       'I.2.10; I.5.1; I.4.8', 'I.2.1; J.3', 'I.2.6', 'I.2.6, I.5.4',\n",
              "       'I.2.6; I.2.10', 'I.2.6; I.2.7', 'I.2.6; I.2.7; H.3.1; H.3.3',\n",
              "       'I.2.6; I.2.8', 'I.2.6; I.2.9', 'I.2.6; I.5.1', 'I.2.6; I.5.4',\n",
              "       'I.2.7', 'I.2.8', 'I.2; I.2.6; I.2.7', 'I.2; I.4; I.5', 'I.2; I.5',\n",
              "       'I.2; J.2', 'I.4', 'I.4.0', 'I.4.3', 'I.4.4', 'I.4.5', 'I.4.6',\n",
              "       'I.4.6; I.4.8', 'I.4.8', 'I.4.9', 'I.4.9; I.5.4', 'I.4; I.5',\n",
              "       'I.5.4', 'K.3.2', 'astro-ph.IM', 'cond-mat.dis-nn',\n",
              "       'cond-mat.mtrl-sci', 'cond-mat.soft', 'cond-mat.stat-mech',\n",
              "       'cs.AI', 'cs.AR', 'cs.CC', 'cs.CE', 'cs.CG', 'cs.CL', 'cs.CR',\n",
              "       'cs.CV', 'cs.CY', 'cs.DB', 'cs.DC', 'cs.DM', 'cs.DS', 'cs.ET',\n",
              "       'cs.FL', 'cs.GR', 'cs.GT', 'cs.HC', 'cs.IR', 'cs.IT', 'cs.LG',\n",
              "       'cs.LO', 'cs.MA', 'cs.MM', 'cs.MS', 'cs.NA', 'cs.NE', 'cs.NI',\n",
              "       'cs.PF', 'cs.PL', 'cs.RO', 'cs.SC', 'cs.SD', 'cs.SE', 'cs.SI',\n",
              "       'cs.SY', 'econ.EM', 'econ.GN', 'eess.AS', 'eess.IV', 'eess.SP',\n",
              "       'eess.SY', 'hep-ex', 'hep-ph', 'math.AP', 'math.AT', 'math.CO',\n",
              "       'math.DS', 'math.FA', 'math.IT', 'math.LO', 'math.NA', 'math.OC',\n",
              "       'math.PR', 'math.ST', 'nlin.AO', 'nlin.CD', 'physics.ao-ph',\n",
              "       'physics.bio-ph', 'physics.chem-ph', 'physics.comp-ph',\n",
              "       'physics.data-an', 'physics.flu-dyn', 'physics.geo-ph',\n",
              "       'physics.med-ph', 'physics.optics', 'physics.soc-ph', 'q-bio.BM',\n",
              "       'q-bio.GN', 'q-bio.MN', 'q-bio.NC', 'q-bio.OT', 'q-bio.QM',\n",
              "       'q-bio.TO', 'q-fin.CP', 'q-fin.EC', 'q-fin.GN', 'q-fin.PM',\n",
              "       'q-fin.RM', 'q-fin.ST', 'q-fin.TR', 'quant-ph', 'stat.AP',\n",
              "       'stat.CO', 'stat.ME', 'stat.ML', 'stat.TH'], dtype=object)"
            ]
          },
          "metadata": {},
          "execution_count": 11
        }
      ]
    },
    {
      "cell_type": "markdown",
      "metadata": {
        "id": "HTcmRnP9HNq9"
      },
      "source": [
        "`MultiLabelBinarizer`separates out the individual unique classes available from the label pool and then uses this information to represent a given label set with 0's and 1's. Below is an example. "
      ]
    },
    {
      "cell_type": "code",
      "metadata": {
        "id": "yfMO31s8HNq9",
        "colab": {
          "base_uri": "https://localhost:8080/"
        },
        "outputId": "7a6b1cb9-761b-409c-fbc5-9534f5168629"
      },
      "source": [
        "sample_label = train_df[\"terms\"].iloc[0]\n",
        "print(f\"Original label: {sample_label}\")\n",
        "\n",
        "label_binarized = mlb.transform([sample_label])\n",
        "print(f\"Label-binarized representation: {label_binarized}\")"
      ],
      "execution_count": null,
      "outputs": [
        {
          "output_type": "stream",
          "name": "stdout",
          "text": [
            "Original label: ['cs.LG', 'cs.AI', 'stat.ML']\n",
            "Label-binarized representation: [[0 0 0 0 0 0 0 0 0 0 0 0 0 0 0 0 0 0 0 0 0 0 0 0 0 0 0 0 0 0 0 0 0 0 0 0\n",
            "  0 0 0 0 0 0 0 0 0 0 0 0 0 0 0 0 0 0 0 0 0 0 0 0 0 0 0 0 0 1 0 0 0 0 0 0\n",
            "  0 0 0 0 0 0 0 0 0 0 0 0 0 1 0 0 0 0 0 0 0 0 0 0 0 0 0 0 0 0 0 0 0 0 0 0\n",
            "  0 0 0 0 0 0 0 0 0 0 0 0 0 0 0 0 0 0 0 0 0 0 0 0 0 0 0 0 0 0 0 0 0 0 0 0\n",
            "  0 0 0 0 0 0 1 0]]\n"
          ]
        }
      ]
    },
    {
      "cell_type": "markdown",
      "metadata": {
        "id": "a2kFVBCG0oXV"
      },
      "source": [
        "## Data preprocessing and `tf.data.Dataset` objects\n",
        "\n",
        "We first get percentile estimates of the sequence lengths. The purpose will be clear in a moment."
      ]
    },
    {
      "cell_type": "code",
      "metadata": {
        "colab": {
          "base_uri": "https://localhost:8080/"
        },
        "id": "kCR-_Iw3gyT-",
        "outputId": "1e00b7b1-b70a-4f2f-f97a-4defa37d3646"
      },
      "source": [
        "train_df[\"summaries\"].apply(lambda x: len(x.split(\" \"))).describe()"
      ],
      "execution_count": null,
      "outputs": [
        {
          "output_type": "execute_result",
          "data": {
            "text/plain": [
              "count    32985.000000\n",
              "mean       156.629650\n",
              "std         41.521087\n",
              "min          5.000000\n",
              "25%        128.000000\n",
              "50%        155.000000\n",
              "75%        183.000000\n",
              "max        462.000000\n",
              "Name: summaries, dtype: float64"
            ]
          },
          "metadata": {},
          "execution_count": 13
        }
      ]
    },
    {
      "cell_type": "markdown",
      "metadata": {
        "id": "2rdivJop02xG"
      },
      "source": [
        "Notice that 50% of the abstracts have a length of 154 (you may get a different number based on the split). So, any number near that is a good enough approximate for the maximum sequence length. \n",
        "\n",
        "Now, we write utilities to prepare our datasets that would go straight to the text classifier model. "
      ]
    },
    {
      "cell_type": "code",
      "metadata": {
        "id": "QoMgEZrtVBDS"
      },
      "source": [
        "max_seqlen = 150\n",
        "batch_size = 128\n",
        "padding_token = \"<pad>\"\n",
        "\n",
        "\n",
        "def unify_text_length(text, label):\n",
        "    # Split the given abstract and calculate its length.\n",
        "    word_splits = tf.strings.split(text, sep=\" \")\n",
        "    sequence_length = tf.shape(word_splits)[0]\n",
        "    \n",
        "    # Calculate the padding amount.\n",
        "    padding_amount = max_seqlen - sequence_length\n",
        "    \n",
        "    # Check if we need to pad or truncate.\n",
        "    if padding_amount > 0:\n",
        "        unified_text = tf.pad([text], [[0, padding_amount]], constant_values=\"<pad>\")\n",
        "        unified_text = tf.strings.reduce_join(unified_text, separator=\"\")\n",
        "    else:\n",
        "        unified_text = tf.strings.reduce_join(word_splits[:max_seqlen], separator=\" \")\n",
        "    \n",
        "    # The expansion is needed for subsequent vectorization.\n",
        "    return tf.expand_dims(unified_text, -1), label\n",
        "\n",
        "\n",
        "def make_dataset(dataframe, is_train=True):\n",
        "    label_binarized = mlb.transform(dataframe[\"terms\"].values)\n",
        "    dataset = tf.data.Dataset.from_tensor_slices(\n",
        "        (dataframe[\"summaries\"].values, label_binarized)\n",
        "    )\n",
        "    dataset = dataset.shuffle(batch_size * 10) if is_train else dataset\n",
        "    dataset = dataset.map(unify_text_length).cache()\n",
        "    return dataset.batch(batch_size).prefetch(tf.data.AUTOTUNE)"
      ],
      "execution_count": null,
      "outputs": []
    },
    {
      "cell_type": "markdown",
      "metadata": {
        "id": "fi5g9v3HHNq-"
      },
      "source": [
        "Now we can prepare the `tf.data.Dataset` objects. "
      ]
    },
    {
      "cell_type": "code",
      "metadata": {
        "id": "F_vrgkCXrWOS"
      },
      "source": [
        "train_dataset = make_dataset(train_df, is_train=True)\n",
        "validation_dataset = make_dataset(val_df, is_train=False)\n",
        "test_dataset = make_dataset(test_df, is_train=False)"
      ],
      "execution_count": null,
      "outputs": []
    },
    {
      "cell_type": "markdown",
      "metadata": {
        "id": "-1Bb4Xnm1EwK"
      },
      "source": [
        "## Dataset preview"
      ]
    },
    {
      "cell_type": "code",
      "metadata": {
        "colab": {
          "base_uri": "https://localhost:8080/"
        },
        "id": "w-8k7gScVoz6",
        "outputId": "8ea5d01c-e0ac-4e8b-b15b-b4b1975cd979"
      },
      "source": [
        "text_batch, label_batch = next(iter(train_dataset))\n",
        "\n",
        "for i, text in enumerate(text_batch[:5]):\n",
        "    label = label_batch[i].numpy()[None, ...]\n",
        "    print(f\"Abstract: {text[0]}\")\n",
        "    print(f\"Label(s): {mlb.inverse_transform(label)[0]}\")\n",
        "    print(\" \")"
      ],
      "execution_count": null,
      "outputs": [
        {
          "output_type": "stream",
          "name": "stdout",
          "text": [
            "Abstract: b'A highly desirable property of a reinforcement learning (RL) agent -- and a\\nmajor difficulty for deep RL approaches -- is the ability to generalize\\npolicies learned on a few tasks over a high-dimensional observation space to\\nsimilar tasks not seen during training. Many promising approaches to this\\nchallenge consider RL as a process of training two functions simultaneously: a\\ncomplex nonlinear encoder that maps high-dimensional observations to a latent\\nrepresentation space, and a simple linear policy over this space. We posit that\\na superior encoder for zero-shot generalization in RL can be trained by using\\nsolely an auxiliary SSL objective if the training process encourages the\\nencoder to map behaviorally similar observations to similar representations, as\\nreward-based signal can cause overfitting in the encoder (Raileanu et al.,\\n2021). We propose Cross-Trajectory Representation Learning (CTRL), a method\\nthat runs within an RL agent and conditions its encoder to recognize behavioral\\nsimilarity in observations by applying a novel SSL objective to pairs of\\ntrajectories from'\n",
            "Label(s): ('cs.AI', 'cs.LG')\n",
            " \n",
            "Abstract: b'We introduce AndroidEnv, an open-source platform for Reinforcement Learning\\n(RL) research built on top of the Android ecosystem. AndroidEnv allows RL\\nagents to interact with a wide variety of apps and services commonly used by\\nhumans through a universal touchscreen interface. Since agents train on a\\nrealistic simulation of an Android device, they have the potential to be\\ndeployed on real devices. In this report, we give an overview of the\\nenvironment, highlighting the significant features it provides for research,\\nand we present an empirical evaluation of some popular reinforcement learning\\nagents on a set of tasks built on this platform.<pad><pad><pad><pad><pad><pad><pad><pad><pad><pad><pad><pad><pad><pad><pad><pad><pad><pad><pad><pad><pad><pad><pad><pad><pad><pad><pad><pad><pad><pad><pad><pad><pad><pad><pad><pad><pad><pad><pad><pad><pad><pad><pad><pad><pad><pad><pad><pad><pad><pad><pad><pad><pad><pad><pad><pad><pad>'\n",
            "Label(s): ('cs.AI', 'cs.LG')\n",
            " \n",
            "Abstract: b'Learning to imitate expert behavior from demonstrations can be challenging,\\nespecially in environments with high-dimensional, continuous observations and\\nunknown dynamics. Supervised learning methods based on behavioral cloning (BC)\\nsuffer from distribution shift: because the agent greedily imitates\\ndemonstrated actions, it can drift away from demonstrated states due to error\\naccumulation. Recent methods based on reinforcement learning (RL), such as\\ninverse RL and generative adversarial imitation learning (GAIL), overcome this\\nissue by training an RL agent to match the demonstrations over a long horizon.\\nSince the true reward function for the task is unknown, these methods learn a\\nreward function from the demonstrations, often using complex and brittle\\napproximation techniques that involve adversarial training. We propose a simple\\nalternative that still uses RL, but does not require learning a reward\\nfunction. The key idea is to provide the agent with an incentive to match the\\ndemonstrations over a long horizon, by encouraging it to return to demonstrated\\nstates upon encountering new, out-of-distribution states. We accomplish'\n",
            "Label(s): ('cs.LG', 'stat.ML')\n",
            " \n",
            "Abstract: b'Knowledge graph completion is an important task that aims to predict the\\nmissing relational link between entities. Knowledge graph embedding methods\\nperform this task by representing entities and relations as embedding vectors\\nand modeling their interactions to compute the matching score of each triple.\\nPrevious work has usually treated each embedding as a whole and has modeled the\\ninteractions between these whole embeddings, potentially making the model\\nexcessively expensive or requiring specially designed interaction mechanisms.\\nIn this work, we propose the multi-partition embedding interaction (MEI) model\\nwith block term format to systematically address this problem. MEI divides each\\nembedding into a multi-partition vector to efficiently restrict the\\ninteractions. Each local interaction is modeled with the Tucker tensor format\\nand the full interaction is modeled with the block term tensor format, enabling\\nMEI to control the trade-off between expressiveness and computational cost,\\nlearn the interaction mechanisms from data automatically, and achieve\\nstate-of-the-art performance on the link prediction task. In addition, we\\ntheoretically study the parameter efficiency'\n",
            "Label(s): ('cs.AI', 'cs.CL', 'cs.LG', 'stat.ML')\n",
            " \n",
            "Abstract: b'Quantization has been proven to be an effective method for reducing the\\ncomputing and/or storage cost of DNNs. However, the trade-off between the\\nquantization bitwidth and final accuracy is complex and non-convex, which makes\\nit difficult to be optimized directly. Minimizing direct quantization loss\\n(DQL) of the coefficient data is an effective local optimization method, but\\nprevious works often neglect the accurate control of the DQL, resulting in a\\nhigher loss of the final DNN model accuracy. In this paper, we propose a novel\\nmetric called Vector Loss. Based on this new metric, we develop a new\\nquantization solution called VecQ, which can guarantee minimal direct\\nquantization loss and better model accuracy. In addition, in order to speed up\\nthe proposed quantization process during model training, we accelerate the\\nquantization process with a parameterized probability estimation method and\\ntemplate-based derivation calculation. We evaluate our proposed algorithm on\\nMNIST, CIFAR, ImageNet, IMDB movie review and THUCNews text data sets with\\nnumerical DNN models. The results'\n",
            "Label(s): ('cs.CV',)\n",
            " \n"
          ]
        }
      ]
    },
    {
      "cell_type": "markdown",
      "metadata": {
        "id": "Yfbnoi-y1IoB"
      },
      "source": [
        "## Vocabulary size for vectorization\n",
        "\n",
        "Before we feed the data to our model we need to represent them as numbers. For that purpose, we will use the [`TextVectorization` layer](https://keras.io/api/layers/preprocessing_layers/text/text_vectorization). It can operate as a part of your main model so that the model is excluded from the core preprocessing logic. This greatly reduces the chances of training and serving skew. \n",
        "\n",
        "We first calculate the number of unique words present in the abstracts."
      ]
    },
    {
      "cell_type": "code",
      "metadata": {
        "colab": {
          "base_uri": "https://localhost:8080/"
        },
        "id": "IIW42KOgyfE7",
        "outputId": "69e504dc-a55e-41ec-e2b9-11b35750d9ca"
      },
      "source": [
        "train_df[\"total_words\"] = train_df[\"summaries\"].str.split().str.len()\n",
        "vocabulary_size = train_df[\"total_words\"].max()\n",
        "print(f\"Vocabulary size: {vocabulary_size}\")"
      ],
      "execution_count": null,
      "outputs": [
        {
          "output_type": "stream",
          "name": "stdout",
          "text": [
            "Vocabulary size: 498\n"
          ]
        },
        {
          "output_type": "stream",
          "name": "stderr",
          "text": [
            "/usr/local/lib/python3.7/dist-packages/ipykernel_launcher.py:1: SettingWithCopyWarning: \n",
            "A value is trying to be set on a copy of a slice from a DataFrame.\n",
            "Try using .loc[row_indexer,col_indexer] = value instead\n",
            "\n",
            "See the caveats in the documentation: https://pandas.pydata.org/pandas-docs/stable/user_guide/indexing.html#returning-a-view-versus-a-copy\n",
            "  \"\"\"Entry point for launching an IPython kernel.\n"
          ]
        }
      ]
    },
    {
      "cell_type": "markdown",
      "metadata": {
        "id": "nis2d-xFHNq_"
      },
      "source": [
        "Now we can create our text classifier model with the `TextVectorization` layer present inside it. "
      ]
    },
    {
      "cell_type": "markdown",
      "metadata": {
        "id": "3TBUFHm11M3G"
      },
      "source": [
        "## Create model with `TextVectorization`\n",
        "\n",
        "A batch of raw text will first go through the `TextVectorization` layer and it will generate their integer representations. These will then be passed to the shallow model responsible for text classification. "
      ]
    },
    {
      "cell_type": "code",
      "metadata": {
        "id": "4XX7ovyPokNs"
      },
      "source": [
        "text_vectorizer = layers.TextVectorization(\n",
        "    max_tokens=vocabulary_size, ngrams=2, output_mode=\"tf_idf\"\n",
        ")\n",
        "\n",
        "# `TextVectorization` needs to be adapted as per the vocabulary from our\n",
        "# training set.\n",
        "with tf.device(\"/CPU:0\"):\n",
        "    text_vectorizer.adapt(train_dataset.map(lambda text, label: text))\n",
        "\n",
        "\n",
        "def make_model():\n",
        "    shallow_mlp_model = keras.Sequential(\n",
        "        [\n",
        "            # keras.Input(shape=(), dtype=tf.string),\n",
        "            text_vectorizer,\n",
        "            layers.Dense(512, activation=\"relu\"),\n",
        "            layers.Dense(256, activation=\"relu\"),\n",
        "            layers.Dense(len(mlb.classes_), activation=\"sigmoid\"),\n",
        "        ]\n",
        "    )\n",
        "    return shallow_mlp_model"
      ],
      "execution_count": null,
      "outputs": []
    },
    {
      "cell_type": "markdown",
      "metadata": {
        "id": "i7i71RLtugUs"
      },
      "source": [
        "Without the CPU placement, we run into: \n",
        "\n",
        "```\n",
        "(1) Invalid argument: During Variant Host->Device Copy: non-DMA-copy attempted of tensor type: string\n",
        "```"
      ]
    },
    {
      "cell_type": "code",
      "metadata": {
        "colab": {
          "base_uri": "https://localhost:8080/"
        },
        "id": "58tUdCsQuI1P",
        "outputId": "47a81fa0-d83c-4dfe-8745-8122ebbc4da9"
      },
      "source": [
        "shallow_mlp_model = make_model()\n",
        "shallow_mlp_model.summary()"
      ],
      "execution_count": null,
      "outputs": [
        {
          "output_type": "stream",
          "name": "stdout",
          "text": [
            "Model: \"sequential\"\n",
            "_________________________________________________________________\n",
            "Layer (type)                 Output Shape              Param #   \n",
            "=================================================================\n",
            "text_vectorization (TextVect (None, 498)               1         \n",
            "_________________________________________________________________\n",
            "dense (Dense)                (None, 512)               255488    \n",
            "_________________________________________________________________\n",
            "dense_1 (Dense)              (None, 256)               131328    \n",
            "_________________________________________________________________\n",
            "dense_2 (Dense)              (None, 152)               39064     \n",
            "=================================================================\n",
            "Total params: 425,881\n",
            "Trainable params: 425,880\n",
            "Non-trainable params: 1\n",
            "_________________________________________________________________\n"
          ]
        }
      ]
    },
    {
      "cell_type": "markdown",
      "metadata": {
        "id": "y1Hr9D0O1Tw0"
      },
      "source": [
        "## Train the model\n",
        "\n",
        "We will train our model using the binary cross-entropy loss. This is because the labels are not disjoint. For a given abstract, we may have multiple categories. So, we will divide the prediction task into a series of multiple binary classification problems. This is also why we kept the activation function of the classification layer in our model to sigmoid. Researchers have used other combinations of loss function and activation function as well. For example, in [Exploring the Limits of Weakly Supervised Pretraining](https://arxiv.org/abs/1805.00932), Mahajan et al. used the softmax activation function and cross-entropy loss to train their models. "
      ]
    },
    {
      "cell_type": "code",
      "metadata": {
        "colab": {
          "base_uri": "https://localhost:8080/"
        },
        "id": "WCoaRkA-wsC3",
        "outputId": "d8f31c73-6f8b-43db-e226-c6fd55e446df"
      },
      "source": [
        "epochs = 20\n",
        "\n",
        "shallow_mlp_model.compile(\n",
        "    loss=\"binary_crossentropy\", optimizer=\"adam\", metrics=[\"categorical_accuracy\"]\n",
        ")\n",
        "\n",
        "history = shallow_mlp_model.fit(train_dataset, validation_data=validation_dataset, epochs=epochs)"
      ],
      "execution_count": null,
      "outputs": [
        {
          "output_type": "stream",
          "name": "stdout",
          "text": [
            "Epoch 1/20\n",
            "258/258 [==============================] - 4s 12ms/step - loss: 0.0778 - categorical_accuracy: 0.6148 - val_loss: 0.0227 - val_categorical_accuracy: 0.6519\n",
            "Epoch 2/20\n",
            "258/258 [==============================] - 3s 10ms/step - loss: 0.0229 - categorical_accuracy: 0.6810 - val_loss: 0.0215 - val_categorical_accuracy: 0.6759\n",
            "Epoch 3/20\n",
            "258/258 [==============================] - 3s 11ms/step - loss: 0.0218 - categorical_accuracy: 0.6855 - val_loss: 0.0207 - val_categorical_accuracy: 0.6830\n",
            "Epoch 4/20\n",
            "258/258 [==============================] - 3s 11ms/step - loss: 0.0209 - categorical_accuracy: 0.6904 - val_loss: 0.0205 - val_categorical_accuracy: 0.6994\n",
            "Epoch 5/20\n",
            "258/258 [==============================] - 3s 11ms/step - loss: 0.0203 - categorical_accuracy: 0.6934 - val_loss: 0.0200 - val_categorical_accuracy: 0.6945\n",
            "Epoch 6/20\n",
            "258/258 [==============================] - 3s 11ms/step - loss: 0.0197 - categorical_accuracy: 0.6949 - val_loss: 0.0198 - val_categorical_accuracy: 0.6972\n",
            "Epoch 7/20\n",
            "258/258 [==============================] - 3s 11ms/step - loss: 0.0193 - categorical_accuracy: 0.6960 - val_loss: 0.0197 - val_categorical_accuracy: 0.6972\n",
            "Epoch 8/20\n",
            "258/258 [==============================] - 3s 11ms/step - loss: 0.0189 - categorical_accuracy: 0.6987 - val_loss: 0.0195 - val_categorical_accuracy: 0.6929\n",
            "Epoch 9/20\n",
            "258/258 [==============================] - 3s 11ms/step - loss: 0.0185 - categorical_accuracy: 0.6991 - val_loss: 0.0195 - val_categorical_accuracy: 0.6918\n",
            "Epoch 10/20\n",
            "258/258 [==============================] - 3s 11ms/step - loss: 0.0182 - categorical_accuracy: 0.6992 - val_loss: 0.0196 - val_categorical_accuracy: 0.6945\n",
            "Epoch 11/20\n",
            "258/258 [==============================] - 3s 11ms/step - loss: 0.0178 - categorical_accuracy: 0.7002 - val_loss: 0.0195 - val_categorical_accuracy: 0.6939\n",
            "Epoch 12/20\n",
            "258/258 [==============================] - 3s 10ms/step - loss: 0.0175 - categorical_accuracy: 0.7024 - val_loss: 0.0196 - val_categorical_accuracy: 0.6956\n",
            "Epoch 13/20\n",
            "258/258 [==============================] - 3s 11ms/step - loss: 0.0172 - categorical_accuracy: 0.7048 - val_loss: 0.0197 - val_categorical_accuracy: 0.6978\n",
            "Epoch 14/20\n",
            "258/258 [==============================] - 3s 11ms/step - loss: 0.0168 - categorical_accuracy: 0.7065 - val_loss: 0.0200 - val_categorical_accuracy: 0.6994\n",
            "Epoch 15/20\n",
            "258/258 [==============================] - 3s 11ms/step - loss: 0.0166 - categorical_accuracy: 0.7082 - val_loss: 0.0201 - val_categorical_accuracy: 0.7005\n",
            "Epoch 16/20\n",
            "258/258 [==============================] - 3s 11ms/step - loss: 0.0163 - categorical_accuracy: 0.7104 - val_loss: 0.0201 - val_categorical_accuracy: 0.6901\n",
            "Epoch 17/20\n",
            "258/258 [==============================] - 3s 11ms/step - loss: 0.0160 - categorical_accuracy: 0.7111 - val_loss: 0.0202 - val_categorical_accuracy: 0.6863\n",
            "Epoch 18/20\n",
            "258/258 [==============================] - 3s 11ms/step - loss: 0.0157 - categorical_accuracy: 0.7117 - val_loss: 0.0202 - val_categorical_accuracy: 0.6879\n",
            "Epoch 19/20\n",
            "258/258 [==============================] - 3s 11ms/step - loss: 0.0154 - categorical_accuracy: 0.7127 - val_loss: 0.0205 - val_categorical_accuracy: 0.6863\n",
            "Epoch 20/20\n",
            "258/258 [==============================] - 3s 10ms/step - loss: 0.0150 - categorical_accuracy: 0.7138 - val_loss: 0.0206 - val_categorical_accuracy: 0.6836\n"
          ]
        }
      ]
    },
    {
      "cell_type": "code",
      "metadata": {
        "colab": {
          "base_uri": "https://localhost:8080/",
          "height": 575
        },
        "id": "bOG4RF0KxUpq",
        "outputId": "4b809603-f59c-4c4b-9f89-2d03cc42ee4a"
      },
      "source": [
        "def plot_result(item):\n",
        "    plt.plot(history.history[item], label=item)\n",
        "    plt.plot(history.history[\"val_\" + item], label=\"val_\" + item)\n",
        "    plt.xlabel(\"Epochs\")\n",
        "    plt.ylabel(item)\n",
        "    plt.title(\"Train and Validation {} Over Epochs\".format(item), fontsize=14)\n",
        "    plt.legend()\n",
        "    plt.grid()\n",
        "    plt.show()\n",
        "\n",
        "\n",
        "plot_result(\"loss\")\n",
        "plot_result(\"categorical_accuracy\")"
      ],
      "execution_count": null,
      "outputs": [
        {
          "output_type": "display_data",
          "data": {
            "image/png": "[encoded data removed]",
            "text/plain": [
              "<Figure size 432x288 with 1 Axes>"
            ]
          },
          "metadata": {
            "needs_background": "light"
          }
        },
        {
          "output_type": "display_data",
          "data": {
            "image/png": "[encoded data removed]",
            "text/plain": [
              "<Figure size 432x288 with 1 Axes>"
            ]
          },
          "metadata": {
            "needs_background": "light"
          }
        }
      ]
    },
    {
      "cell_type": "markdown",
      "metadata": {
        "id": "wBvqeuk88G9r"
      },
      "source": [
        "### Evaluate the model"
      ]
    },
    {
      "cell_type": "code",
      "metadata": {
        "colab": {
          "base_uri": "https://localhost:8080/"
        },
        "id": "sxz8yDaT8MdL",
        "outputId": "04cbcc20-9c7d-417a-fc0f-f67236533711"
      },
      "source": [
        "_, categorical_acc = shallow_mlp_model.evaluate(test_dataset)\n",
        "print(f\"Categorical accuracy on the test set: {round(categorical_acc * 100, 2)}%.\")"
      ],
      "execution_count": null,
      "outputs": [
        {
          "output_type": "stream",
          "name": "stdout",
          "text": [
            "15/15 [==============================] - 0s 23ms/step - loss: 0.0200 - categorical_accuracy: 0.6978\n",
            "Categorical accuracy on the test set: 69.78%.\n"
          ]
        }
      ]
    },
    {
      "cell_type": "markdown",
      "metadata": {
        "id": "Wt0Vfk8rLuC9"
      },
      "source": [
        "While training, we notice an initial sharp fall in the loss followed by a gradual decay. The trained model gives us a validation accuracy of ~70%."
      ]
    },
    {
      "cell_type": "markdown",
      "metadata": {
        "id": "SeCfK4daFGJq"
      },
      "source": [
        "## Inference"
      ]
    },
    {
      "cell_type": "code",
      "metadata": {
        "colab": {
          "base_uri": "https://localhost:8080/"
        },
        "id": "axBPAMpe-sp2",
        "outputId": "f9818ed8-1e14-45de-bf32-a01f53cca97d"
      },
      "source": [
        "text_batch, label_batch = next(iter(test_dataset))\n",
        "predicted_probabilities = shallow_mlp_model(text_batch)\n",
        "\n",
        "for i, text in enumerate(text_batch[:5]):\n",
        "    label = label_batch[i].numpy()[None, ...]\n",
        "    print(f\"Abstract: {text[0]}\")\n",
        "    print(f\"Label(s): {mlb.inverse_transform(label)[0]}\")\n",
        "    predicted_proba = [float(proba.numpy()) for proba in predicted_probabilities[i]]\n",
        "    top_3_labels = [x for _, x in sorted(zip(predicted_probabilities[i], mlb.classes_), key=lambda pair: pair[0], reverse=True)][:3]\n",
        "    print(f\"Predicted Label(s): ({', '.join([label for label in top_3_labels])})\")\n",
        "    print(\" \")"
      ],
      "execution_count": 68,
      "outputs": [
        {
          "output_type": "stream",
          "name": "stdout",
          "text": [
            "Abstract: b'Parametric causal modelling techniques rarely provide functionality for\\ncounterfactual estimation, often at the expense of modelling complexity. Since\\ncausal estimations depend on the family of functions used to model the data,\\nsimplistic models could entail imprecise characterizations of the generative\\nmechanism, and, consequently, unreliable results. This limits their\\napplicability to real-life datasets, with non-linear relationships and high\\ninteraction between variables. We propose Deep Causal Graphs, an abstract\\nspecification of the required functionality for a neural network to model\\ncausal distributions, and provide a model that satisfies this contract:\\nNormalizing Causal Flows. We demonstrate its expressive power in modelling\\ncomplex interactions and showcase applications of the method to machine\\nlearning explainability and fairness, using true causal counterfactuals.<pad><pad><pad><pad><pad><pad><pad><pad><pad><pad><pad><pad><pad><pad><pad><pad><pad><pad><pad><pad><pad><pad><pad><pad><pad><pad><pad><pad><pad><pad><pad><pad><pad><pad><pad><pad><pad><pad><pad><pad><pad><pad><pad><pad><pad>'\n",
            "Label(s): ('cs.LG', 'cs.NE', 'stat.ML')\n",
            "Predicted Label(s): (cs.LG, stat.ML, physics.data-an)\n",
            " \n",
            "Abstract: b\"Deep learning inference on embedded devices is a burgeoning field with myriad\\napplications because tiny embedded devices are omnipresent. But we must\\novercome major challenges before we can benefit from this opportunity. Embedded\\nprocessors are severely resource constrained. Their nearest mobile counterparts\\nexhibit at least a 100 -- 1,000x difference in compute capability, memory\\navailability, and power consumption. As a result, the machine-learning (ML)\\nmodels and associated ML inference framework must not only execute efficiently\\nbut also operate in a few kilobytes of memory. Also, the embedded devices'\\necosystem is heavily fragmented. To maximize efficiency, system vendors often\\nomit many features that commonly appear in mainstream systems, including\\ndynamic memory allocation and virtual memory, that allow for cross-platform\\ninteroperability. The hardware comes in many flavors (e.g., instruction-set\\narchitecture and FPU support, or lack thereof). We introduce TensorFlow Lite\\nMicro (TF Micro), an open-source ML inference framework for running\\ndeep-learning models on embedded systems. TF Micro tackles the efficiency\\nrequirements imposed by embedded-system resource constraints and\"\n",
            "Label(s): ('cs.AI', 'cs.LG')\n",
            "Predicted Label(s): (cs.LG, stat.ML, cs.AI)\n",
            " \n",
            "Abstract: b'Lidar odometry (LO) is a key technology in numerous reliable and accurate\\nlocalization and mapping systems of autonomous driving. The state-of-the-art LO\\nmethods generally leverage geometric information to perform point cloud\\nregistration. Furthermore, obtaining point cloud semantic information which can\\ndescribe the environment more abundantly will help for the registration. We\\npresent a novel semantic lidar odometry method based on self-designed\\nparameterized semantic features (PSFs) to achieve low-drift ego-motion\\nestimation for autonomous vehicle in realtime. We first use a convolutional\\nneural network-based algorithm to obtain point-wise semantics from the input\\nlaser point cloud, and then use semantic labels to separate the road, building,\\ntraffic sign and pole-like point cloud and fit them separately to obtain\\ncorresponding PSFs. A fast PSF-based matching enable us to refine geometric\\nfeatures (GeFs) registration, reducing the impact of blurred submap surface on\\nthe accuracy of GeFs matching. Besides, we design an efficient method to\\naccurately recognize and remove the dynamic objects while retaining static ones\\nin the semantic point cloud,'\n",
            "Label(s): ('cs.CV',)\n",
            "Predicted Label(s): (cs.CV, cs.RO, cs.GR)\n",
            " \n",
            "Abstract: b'Deep neural networks have been shown to suffer from poor generalization when\\nsmall perturbations are added (like Gaussian noise), yet little work has been\\ndone to evaluate their robustness to more natural image transformations like\\nphoto filters. This paper presents a study on how popular pretrained models are\\naffected by commonly used Instagram filters. To this end, we introduce\\nImageNet-Instagram, a filtered version of ImageNet, where 20 popular Instagram\\nfilters are applied to each image in ImageNet. Our analysis suggests that\\nsimple structure preserving filters which only alter the global appearance of\\nan image can lead to large differences in the convolutional feature space. To\\nimprove generalization, we introduce a lightweight de-stylization module that\\npredicts parameters used for scaling and shifting feature maps to \"undo\" the\\nchanges incurred by filters, inverting the process of style transfer tasks. We\\nfurther demonstrate the module can be readily plugged into modern CNN\\narchitectures together with skip connections. We conduct extensive studies on\\nImageNet-Instagram, and show quantitatively and'\n",
            "Label(s): ('cs.CV', 'cs.LG', 'eess.IV')\n",
            "Predicted Label(s): (cs.CV, eess.IV, cs.LG)\n",
            " \n",
            "Abstract: b'Video summarization is an effective way to facilitate video searching and\\nbrowsing. Most of existing systems employ encoder-decoder based recurrent\\nneural networks, which fail to explicitly diversify the system-generated\\nsummary frames while requiring intensive computations. In this paper, we\\npropose an efficient convolutional neural network architecture for video\\nSUMmarization via Global Diverse Attention called SUM-GDA, which adapts\\nattention mechanism in a global perspective to consider pairwise temporal\\nrelations of video frames. Particularly, the GDA module has two advantages: 1)\\nit models the relations within paired frames as well as the relations among all\\npairs, thus capturing the global attention across all frames of one video; 2)\\nit reflects the importance of each frame to the whole video, leading to diverse\\nattention on these frames. Thus, SUM-GDA is beneficial for generating diverse\\nframes to form satisfactory video summary. Extensive experiments on three data\\nsets, i.e., SumMe, TVSum, and VTW, have demonstrated that SUM-GDA and its\\nextension outperform other competing state-of-the-art methods with remarkable\\nimprovements. In addition,'\n",
            "Label(s): ('cs.CV', 'cs.MM')\n",
            "Predicted Label(s): (cs.CV, cs.LG, eess.IV)\n",
            " \n"
          ]
        }
      ]
    },
    {
      "cell_type": "code",
      "metadata": {
        "id": "K6xZd4t3D4fz"
      },
      "source": [
        ""
      ],
      "execution_count": null,
      "outputs": []
    }
  ]
}
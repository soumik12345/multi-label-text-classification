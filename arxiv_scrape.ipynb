{
  "nbformat": 4,
  "nbformat_minor": 0,
  "metadata": {
    "colab": {
      "name": "arxiv-scrape.ipynb",
      "provenance": [],
      "collapsed_sections": []
    },
    "kernelspec": {
      "name": "python3",
      "display_name": "Python 3"
    },
    "language_info": {
      "name": "python"
    }
  },
  "cells": [
    {
      "cell_type": "code",
      "metadata": {
        "colab": {
          "base_uri": "https://localhost:8080/"
        },
        "id": "ndfglIjXYcBU",
        "outputId": "0b4e881a-b90a-443b-a5ea-fc077c588839"
      },
      "source": [
        "!pip install arxiv"
      ],
      "execution_count": 1,
      "outputs": [
        {
          "output_type": "stream",
          "name": "stdout",
          "text": [
            "Collecting arxiv\n",
            "  Downloading arxiv-1.4.2-py3-none-any.whl (11 kB)\n",
            "Collecting feedparser\n",
            "  Downloading feedparser-6.0.8-py3-none-any.whl (81 kB)\n",
            "\u001b[K     |████████████████████████████████| 81 kB 3.6 MB/s \n",
            "\u001b[?25hCollecting sgmllib3k\n",
            "  Downloading sgmllib3k-1.0.0.tar.gz (5.8 kB)\n",
            "Building wheels for collected packages: sgmllib3k\n",
            "  Building wheel for sgmllib3k (setup.py) ... \u001b[?25l\u001b[?25hdone\n",
            "  Created wheel for sgmllib3k: filename=sgmllib3k-1.0.0-py3-none-any.whl size=6065 sha256=489e737ee4b1491aefc04128601912bc6c8971096e7ba43d712a547ea9a6efbc\n",
            "  Stored in directory: /root/.cache/pip/wheels/73/ad/a4/0dff4a6ef231fc0dfa12ffbac2a36cebfdddfe059f50e019aa\n",
            "Successfully built sgmllib3k\n",
            "Installing collected packages: sgmllib3k, feedparser, arxiv\n",
            "Successfully installed arxiv-1.4.2 feedparser-6.0.8 sgmllib3k-1.0.0\n"
          ]
        }
      ]
    },
    {
      "cell_type": "code",
      "metadata": {
        "id": "ApsL6p9CWTBX"
      },
      "source": [
        "import arxiv\n",
        "import pandas as pd\n",
        "from tqdm import tqdm\n",
        "\n",
        "query_keywords = [\n",
        "    \"\\\"image segmentation\\\"\",\n",
        "    \"\\\"self-supervised learning\\\"\",\n",
        "    \"\\\"representation learning\\\"\",\n",
        "    \"\\\"image generation\\\"\",\n",
        "    \"\\\"object detection\\\"\",\n",
        "    \"\\\"transfer learning\\\"\",\n",
        "    \"\\\"transformers\\\"\",\n",
        "    \"\\\"adversarial training\",\n",
        "    \"\\\"generative adversarial networks\\\"\",\n",
        "    \"\\\"model compressions\\\"\",\n",
        "    \"\\\"image segmentation\\\"\",\n",
        "    \"\\\"few-shot learning\\\"\"\n",
        "]"
      ],
      "execution_count": 1,
      "outputs": []
    },
    {
      "cell_type": "code",
      "metadata": {
        "id": "TIct2UKLbL31"
      },
      "source": [
        "# Reuse a client with increased number of retries (3 -> 10) and increased page\n",
        "# size (100->500).\n",
        "client = arxiv.Client(num_retries=10, page_size=500)\n",
        "\n",
        "def query_with_keywords(query):\n",
        "    search = arxiv.Search(\n",
        "        query=query,\n",
        "        max_results=3000,\n",
        "        sort_by=arxiv.SortCriterion.LastUpdatedDate\n",
        "    )\n",
        "    terms = []\n",
        "    titles = []\n",
        "    abstracts = []\n",
        "    for res in tqdm(client.results(search), desc=query):\n",
        "        if res.primary_category in [\"cs.CV\", \"stat.ML\", \"cs.LG\"]:\n",
        "            terms.append(res.categories)\n",
        "            titles.append(res.title)\n",
        "            abstracts.append(res.summary)\n",
        "    return terms, titles, abstracts"
      ],
      "execution_count": 2,
      "outputs": []
    },
    {
      "cell_type": "code",
      "metadata": {
        "colab": {
          "base_uri": "https://localhost:8080/"
        },
        "id": "L73h-A7RYmqR",
        "outputId": "358fa304-f68e-4724-d91b-a8fbb2724ba5"
      },
      "source": [
        "all_titles = []\n",
        "all_summaries = []\n",
        "all_terms = []\n",
        "\n",
        "for query in query_keywords:\n",
        "    terms, titles, abstracts = query_with_keywords(query)\n",
        "    all_titles.extend(titles)\n",
        "    all_summaries.extend(abstracts)\n",
        "    all_terms.extend(terms)"
      ],
      "execution_count": 3,
      "outputs": [
        {
          "output_type": "stream",
          "name": "stderr",
          "text": [
            "\"image segmentation\": 2081it [00:39, 52.98it/s]\n",
            "\"self-supervised learning\": 0it [00:03, ?it/s]\n",
            "\"representation learning\": 3000it [00:58, 51.15it/s]\n",
            "\"image generation\": 1238it [00:26, 47.09it/s]\n",
            "\"object detection\": 3000it [01:08, 44.00it/s]\n",
            "\"transfer learning\": 3000it [01:08, 44.11it/s]\n",
            "\"transformers\": 3000it [01:01, 48.64it/s]\n",
            "\"adversarial training: 0it [00:03, ?it/s]\n",
            "\"generative adversarial networks\": 3000it [01:08, 44.08it/s]\n",
            "\"model compressions\": 496it [00:10, 47.54it/s]\n",
            "\"image segmentation\": 2081it [00:42, 48.94it/s]\n",
            "\"few-shot learning\": 0it [00:03, ?it/s]\n"
          ]
        }
      ]
    },
    {
      "cell_type": "code",
      "metadata": {
        "colab": {
          "base_uri": "https://localhost:8080/",
          "height": 205
        },
        "id": "GX7UXcI0a1sR",
        "outputId": "c9b4e750-d827-43e9-941c-1a11f0ad6077"
      },
      "source": [
        "data = pd.DataFrame({\n",
        "    'titles': all_titles,\n",
        "    'summaries': all_summaries,\n",
        "    'terms': all_terms\n",
        "})\n",
        "data.head()"
      ],
      "execution_count": 4,
      "outputs": [
        {
          "output_type": "execute_result",
          "data": {
            "text/html": [
              "<div>\n",
              "<style scoped>\n",
              "    .dataframe tbody tr th:only-of-type {\n",
              "        vertical-align: middle;\n",
              "    }\n",
              "\n",
              "    .dataframe tbody tr th {\n",
              "        vertical-align: top;\n",
              "    }\n",
              "\n",
              "    .dataframe thead th {\n",
              "        text-align: right;\n",
              "    }\n",
              "</style>\n",
              "<table border=\"1\" class=\"dataframe\">\n",
              "  <thead>\n",
              "    <tr style=\"text-align: right;\">\n",
              "      <th></th>\n",
              "      <th>titles</th>\n",
              "      <th>summaries</th>\n",
              "      <th>terms</th>\n",
              "    </tr>\n",
              "  </thead>\n",
              "  <tbody>\n",
              "    <tr>\n",
              "      <th>0</th>\n",
              "      <td>Survey on Semantic Stereo Matching / Semantic ...</td>\n",
              "      <td>Stereo matching is one of the widely used tech...</td>\n",
              "      <td>[cs.CV, cs.LG]</td>\n",
              "    </tr>\n",
              "    <tr>\n",
              "      <th>1</th>\n",
              "      <td>FUTURE-AI: Guiding Principles and Consensus Re...</td>\n",
              "      <td>The recent advancements in artificial intellig...</td>\n",
              "      <td>[cs.CV, cs.AI, cs.LG]</td>\n",
              "    </tr>\n",
              "    <tr>\n",
              "      <th>2</th>\n",
              "      <td>Enforcing Mutual Consistency of Hard Regions f...</td>\n",
              "      <td>In this paper, we proposed a novel mutual cons...</td>\n",
              "      <td>[cs.CV, cs.AI]</td>\n",
              "    </tr>\n",
              "    <tr>\n",
              "      <th>3</th>\n",
              "      <td>Parameter Decoupling Strategy for Semi-supervi...</td>\n",
              "      <td>Consistency training has proven to be an advan...</td>\n",
              "      <td>[cs.CV]</td>\n",
              "    </tr>\n",
              "    <tr>\n",
              "      <th>4</th>\n",
              "      <td>Background-Foreground Segmentation for Interio...</td>\n",
              "      <td>To ensure safety in automated driving, the cor...</td>\n",
              "      <td>[cs.CV, cs.LG]</td>\n",
              "    </tr>\n",
              "  </tbody>\n",
              "</table>\n",
              "</div>"
            ],
            "text/plain": [
              "                                              titles  ...                  terms\n",
              "0  Survey on Semantic Stereo Matching / Semantic ...  ...         [cs.CV, cs.LG]\n",
              "1  FUTURE-AI: Guiding Principles and Consensus Re...  ...  [cs.CV, cs.AI, cs.LG]\n",
              "2  Enforcing Mutual Consistency of Hard Regions f...  ...         [cs.CV, cs.AI]\n",
              "3  Parameter Decoupling Strategy for Semi-supervi...  ...                [cs.CV]\n",
              "4  Background-Foreground Segmentation for Interio...  ...         [cs.CV, cs.LG]\n",
              "\n",
              "[5 rows x 3 columns]"
            ]
          },
          "metadata": {},
          "execution_count": 4
        }
      ]
    },
    {
      "cell_type": "code",
      "metadata": {
        "id": "LRjWIApOdTE0"
      },
      "source": [
        "data.to_csv('arxiv_data.csv', index=False)"
      ],
      "execution_count": 5,
      "outputs": []
    },
    {
      "cell_type": "code",
      "metadata": {
        "id": "YrcBGeBldxgc"
      },
      "source": [
        ""
      ],
      "execution_count": null,
      "outputs": []
    }
  ]
}
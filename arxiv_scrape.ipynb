{
  "nbformat": 4,
  "nbformat_minor": 0,
  "metadata": {
    "colab": {
      "name": "arxiv-scrape.ipynb",
      "provenance": [],
      "collapsed_sections": []
    },
    "kernelspec": {
      "name": "python3",
      "display_name": "Python 3"
    },
    "language_info": {
      "name": "python"
    }
  },
  "cells": [
    {
      "cell_type": "code",
      "metadata": {
        "colab": {
          "base_uri": "https://localhost:8080/"
        },
        "id": "ndfglIjXYcBU",
        "outputId": "dcfc54c0-70c6-452e-ac68-2bb396744183"
      },
      "source": [
        "!pip install arxiv"
      ],
      "execution_count": null,
      "outputs": [
        {
          "output_type": "stream",
          "name": "stdout",
          "text": [
            "Collecting arxiv\n",
            "  Downloading arxiv-1.4.2-py3-none-any.whl (11 kB)\n",
            "Collecting feedparser\n",
            "  Downloading feedparser-6.0.8-py3-none-any.whl (81 kB)\n",
            "\u001b[K     |████████████████████████████████| 81 kB 5.3 MB/s \n",
            "\u001b[?25hCollecting sgmllib3k\n",
            "  Downloading sgmllib3k-1.0.0.tar.gz (5.8 kB)\n",
            "Building wheels for collected packages: sgmllib3k\n",
            "  Building wheel for sgmllib3k (setup.py) ... \u001b[?25l\u001b[?25hdone\n",
            "  Created wheel for sgmllib3k: filename=sgmllib3k-1.0.0-py3-none-any.whl size=6065 sha256=1a262bf6597c0a6d7c9fea438a07ef9abce303bce87c66dc0a19ff6bfc1ebe83\n",
            "  Stored in directory: /root/.cache/pip/wheels/73/ad/a4/0dff4a6ef231fc0dfa12ffbac2a36cebfdddfe059f50e019aa\n",
            "Successfully built sgmllib3k\n",
            "Installing collected packages: sgmllib3k, feedparser, arxiv\n",
            "Successfully installed arxiv-1.4.2 feedparser-6.0.8 sgmllib3k-1.0.0\n"
          ]
        }
      ]
    },
    {
      "cell_type": "code",
      "metadata": {
        "id": "ApsL6p9CWTBX"
      },
      "source": [
        "import arxiv\n",
        "import pandas as pd\n",
        "from tqdm import tqdm\n",
        "\n",
        "query_keywords = [\n",
        "    \"\\\"image segmentation\\\"\",\n",
        "    \"\\\"self-supervised learning\\\"\",\n",
        "    \"\\\"representation learning\\\"\",\n",
        "    \"\\\"image generation\\\"\",\n",
        "    \"\\\"object detection\\\"\",\n",
        "    \"\\\"transfer learning\\\"\",\n",
        "    \"\\\"transformers\\\"\",\n",
        "    \"\\\"adversarial training\",\n",
        "    \"\\\"generative adversarial networks\\\"\",\n",
        "    \"\\\"model compressions\\\"\",\n",
        "    \"\\\"image segmentation\\\"\",\n",
        "    \"\\\"few-shot learning\\\"\",\n",
        "    \"\\\"natural language\\\"\",\n",
        "    \"\\\"graph\\\"\",\n",
        "    \"\\\"colorization\\\"\",\n",
        "    \"\\\"depth estimation\\\"\",\n",
        "    \"\\\"point cloud\\\"\",\n",
        "    \"\\\"structured data\\\"\",\n",
        "    \"\\\"optical flow\\\"\",\n",
        "    \"\\\"reinforcement learning\\\"\",\n",
        "    \"\\\"super resolution\\\"\",\n",
        "    \"\\\"attention\\\"\",\n",
        "    \"\\\"tabular\\\"\",\n",
        "    \"\\\"unsupervised learning\\\"\",\n",
        "    \"\\\"semi-supervised learning\\\"\",\n",
        "    \"\\\"explainable\\\"\",\n",
        "    \"\\\"radiance field\\\"\",\n",
        "    \"\\\"decision tree\\\"\",\n",
        "    \"\\\"time series\\\"\",\n",
        "    \"\\\"molecule\\\"\",\n",
        "]"
      ],
      "execution_count": null,
      "outputs": []
    },
    {
      "cell_type": "code",
      "metadata": {
        "id": "TIct2UKLbL31"
      },
      "source": [
        "# Reuse a client with increased number of retries (3 -> 10) and increased page\n",
        "# size (100->500).\n",
        "client = arxiv.Client(num_retries=20, page_size=500)\n",
        "\n",
        "def query_with_keywords(query):\n",
        "    search = arxiv.Search(\n",
        "        query=query,\n",
        "        max_results=20000,\n",
        "        sort_by=arxiv.SortCriterion.LastUpdatedDate\n",
        "    )\n",
        "    terms = []\n",
        "    titles = []\n",
        "    abstracts = []\n",
        "    for res in tqdm(client.results(search), desc=query):\n",
        "        if res.primary_category in [\"cs.CV\", \"stat.ML\", \"cs.LG\"]:\n",
        "            terms.append(res.categories)\n",
        "            titles.append(res.title)\n",
        "            abstracts.append(res.summary)\n",
        "    return terms, titles, abstracts"
      ],
      "execution_count": null,
      "outputs": []
    },
    {
      "cell_type": "code",
      "metadata": {
        "colab": {
          "base_uri": "https://localhost:8080/"
        },
        "id": "L73h-A7RYmqR",
        "outputId": "0e3bd550-1a12-4fd2-efa7-2e5e286c2c3f"
      },
      "source": [
        "all_titles = []\n",
        "all_summaries = []\n",
        "all_terms = []\n",
        "\n",
        "for query in query_keywords:\n",
        "    terms, titles, abstracts = query_with_keywords(query)\n",
        "    all_titles.extend(titles)\n",
        "    all_summaries.extend(abstracts)\n",
        "    all_terms.extend(terms)"
      ],
      "execution_count": null,
      "outputs": [
        {
          "output_type": "stream",
          "name": "stderr",
          "text": [
            "\"image segmentation\": 2082it [00:34, 60.41it/s]\n",
            "\"self-supervised learning\": 0it [00:03, ?it/s]\n",
            "\"representation learning\": 3690it [01:07, 54.33it/s]\n",
            "\"image generation\": 1241it [00:22, 54.30it/s]\n",
            "\"object detection\": 4439it [01:16, 57.97it/s]\n",
            "\"transfer learning\": 3456it [00:57, 59.61it/s]\n",
            "\"transformers\": 20000it [06:18, 52.89it/s]\n",
            "\"adversarial training: 0it [00:03, ?it/s]\n",
            "\"generative adversarial networks\": 4185it [01:15, 55.67it/s]\n",
            "\"model compressions\": 497it [00:08, 59.19it/s]\n",
            "\"image segmentation\": 2082it [00:37, 55.76it/s]\n",
            "\"few-shot learning\": 0it [00:03, ?it/s]\n",
            "\"natural language\": 8976it [02:37, 57.01it/s]\n",
            "\"graph\": 20000it [06:09, 54.17it/s]\n",
            "\"colorization\": 20000it [06:46, 49.24it/s]\n",
            "\"depth estimation\": 798it [00:14, 55.08it/s]\n",
            "\"point cloud\": 2699it [00:45, 59.18it/s]\n",
            "\"structured data\": 1458it [00:29, 50.17it/s]\n",
            "\"optical flow\": 1136it [00:24, 46.47it/s]\n",
            "\"reinforcement learning\": 10880it [03:09, 57.54it/s]\n",
            "\"super resolution\": 2107it [00:36, 57.58it/s]\n",
            "\"attention\": 20000it [05:51, 56.82it/s]\n",
            "\"tabular\": 824it [00:14, 56.69it/s]\n",
            "\"unsupervised learning\": 2139it [00:37, 57.74it/s]\n",
            "\"semi-supervised learning\": 0it [00:03, ?it/s]\n",
            "\"explainable\": 20000it [06:16, 53.13it/s]\n",
            "\"radiance field\": 82it [00:04, 19.99it/s]\n",
            "\"decision tree\": 1869it [00:31, 58.45it/s]\n",
            "\"time series\": 12496it [04:03, 51.28it/s]\n",
            "\"molecule\": 20000it [06:51, 48.56it/s]\n"
          ]
        }
      ]
    },
    {
      "cell_type": "code",
      "metadata": {
        "colab": {
          "base_uri": "https://localhost:8080/",
          "height": 205
        },
        "id": "GX7UXcI0a1sR",
        "outputId": "0ed04b65-ab62-4d11-91a9-5d73d4e67ca9"
      },
      "source": [
        "data = pd.DataFrame({\n",
        "    'titles': all_titles,\n",
        "    'summaries': all_summaries,\n",
        "    'terms': all_terms\n",
        "})\n",
        "data.head()"
      ],
      "execution_count": null,
      "outputs": [
        {
          "output_type": "execute_result",
          "data": {
            "text/html": [
              "<div>\n",
              "<style scoped>\n",
              "    .dataframe tbody tr th:only-of-type {\n",
              "        vertical-align: middle;\n",
              "    }\n",
              "\n",
              "    .dataframe tbody tr th {\n",
              "        vertical-align: top;\n",
              "    }\n",
              "\n",
              "    .dataframe thead th {\n",
              "        text-align: right;\n",
              "    }\n",
              "</style>\n",
              "<table border=\"1\" class=\"dataframe\">\n",
              "  <thead>\n",
              "    <tr style=\"text-align: right;\">\n",
              "      <th></th>\n",
              "      <th>titles</th>\n",
              "      <th>summaries</th>\n",
              "      <th>terms</th>\n",
              "    </tr>\n",
              "  </thead>\n",
              "  <tbody>\n",
              "    <tr>\n",
              "      <th>0</th>\n",
              "      <td>Survey on Semantic Stereo Matching / Semantic ...</td>\n",
              "      <td>Stereo matching is one of the widely used tech...</td>\n",
              "      <td>[cs.CV, cs.LG]</td>\n",
              "    </tr>\n",
              "    <tr>\n",
              "      <th>1</th>\n",
              "      <td>FUTURE-AI: Guiding Principles and Consensus Re...</td>\n",
              "      <td>The recent advancements in artificial intellig...</td>\n",
              "      <td>[cs.CV, cs.AI, cs.LG]</td>\n",
              "    </tr>\n",
              "    <tr>\n",
              "      <th>2</th>\n",
              "      <td>Enforcing Mutual Consistency of Hard Regions f...</td>\n",
              "      <td>In this paper, we proposed a novel mutual cons...</td>\n",
              "      <td>[cs.CV, cs.AI]</td>\n",
              "    </tr>\n",
              "    <tr>\n",
              "      <th>3</th>\n",
              "      <td>Parameter Decoupling Strategy for Semi-supervi...</td>\n",
              "      <td>Consistency training has proven to be an advan...</td>\n",
              "      <td>[cs.CV]</td>\n",
              "    </tr>\n",
              "    <tr>\n",
              "      <th>4</th>\n",
              "      <td>Background-Foreground Segmentation for Interio...</td>\n",
              "      <td>To ensure safety in automated driving, the cor...</td>\n",
              "      <td>[cs.CV, cs.LG]</td>\n",
              "    </tr>\n",
              "  </tbody>\n",
              "</table>\n",
              "</div>"
            ],
            "text/plain": [
              "                                              titles  ...                  terms\n",
              "0  Survey on Semantic Stereo Matching / Semantic ...  ...         [cs.CV, cs.LG]\n",
              "1  FUTURE-AI: Guiding Principles and Consensus Re...  ...  [cs.CV, cs.AI, cs.LG]\n",
              "2  Enforcing Mutual Consistency of Hard Regions f...  ...         [cs.CV, cs.AI]\n",
              "3  Parameter Decoupling Strategy for Semi-supervi...  ...                [cs.CV]\n",
              "4  Background-Foreground Segmentation for Interio...  ...         [cs.CV, cs.LG]\n",
              "\n",
              "[5 rows x 3 columns]"
            ]
          },
          "metadata": {},
          "execution_count": 5
        }
      ]
    },
    {
      "cell_type": "code",
      "metadata": {
        "id": "LRjWIApOdTE0"
      },
      "source": [
        "data.to_csv('arxiv_data.csv', index=False)"
      ],
      "execution_count": null,
      "outputs": []
    },
    {
      "cell_type": "code",
      "metadata": {
        "id": "YrcBGeBldxgc",
        "colab": {
          "base_uri": "https://localhost:8080/",
          "height": 17
        },
        "outputId": "0a3d21a2-34e1-4dfb-fe50-79f9ef723829"
      },
      "source": [
        "from google.colab import files\n",
        "files.download('arxiv_data.csv') "
      ],
      "execution_count": null,
      "outputs": [
        {
          "output_type": "display_data",
          "data": {
            "application/javascript": [
              "\n",
              "    async function download(id, filename, size) {\n",
              "      if (!google.colab.kernel.accessAllowed) {\n",
              "        return;\n",
              "      }\n",
              "      const div = document.createElement('div');\n",
              "      const label = document.createElement('label');\n",
              "      label.textContent = `Downloading \"${filename}\": `;\n",
              "      div.appendChild(label);\n",
              "      const progress = document.createElement('progress');\n",
              "      progress.max = size;\n",
              "      div.appendChild(progress);\n",
              "      document.body.appendChild(div);\n",
              "\n",
              "      const buffers = [];\n",
              "      let downloaded = 0;\n",
              "\n",
              "      const channel = await google.colab.kernel.comms.open(id);\n",
              "      // Send a message to notify the kernel that we're ready.\n",
              "      channel.send({})\n",
              "\n",
              "      for await (const message of channel.messages) {\n",
              "        // Send a message to notify the kernel that we're ready.\n",
              "        channel.send({})\n",
              "        if (message.buffers) {\n",
              "          for (const buffer of message.buffers) {\n",
              "            buffers.push(buffer);\n",
              "            downloaded += buffer.byteLength;\n",
              "            progress.value = downloaded;\n",
              "          }\n",
              "        }\n",
              "      }\n",
              "      const blob = new Blob(buffers, {type: 'application/binary'});\n",
              "      const a = document.createElement('a');\n",
              "      a.href = window.URL.createObjectURL(blob);\n",
              "      a.download = filename;\n",
              "      div.appendChild(a);\n",
              "      a.click();\n",
              "      div.remove();\n",
              "    }\n",
              "  "
            ],
            "text/plain": [
              "<IPython.core.display.Javascript object>"
            ]
          },
          "metadata": {}
        },
        {
          "output_type": "display_data",
          "data": {
            "application/javascript": [
              "download(\"download_f004bf7a-a2b5-4190-8106-a09da6b00401\", \"arxiv_data.csv\", 67411252)"
            ],
            "text/plain": [
              "<IPython.core.display.Javascript object>"
            ]
          },
          "metadata": {}
        }
      ]
    },
    {
      "cell_type": "code",
      "metadata": {
        "id": "dqojCAC4uV8u"
      },
      "source": [
        ""
      ],
      "execution_count": null,
      "outputs": []
    }
  ]
}
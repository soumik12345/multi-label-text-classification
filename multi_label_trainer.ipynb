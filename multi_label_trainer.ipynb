{
 "cells": [
  {
   "cell_type": "markdown",
   "metadata": {
    "id": "5GICQpY-zws7"
   },
   "source": [
    "## Imports"
   ]
  },
  {
   "cell_type": "code",
   "execution_count": 1,
   "metadata": {
    "id": "ho5uPff1fLoH"
   },
   "outputs": [],
   "source": [
    "from tensorflow.keras import layers\n",
    "from tensorflow import keras\n",
    "import tensorflow as tf\n",
    "\n",
    "from sklearn.preprocessing import MultiLabelBinarizer\n",
    "from sklearn.model_selection import train_test_split\n",
    "from ast import literal_eval\n",
    "import pandas as pd\n",
    "import numpy as np"
   ]
  },
  {
   "cell_type": "markdown",
   "metadata": {
    "id": "qyeQtKSezymP"
   },
   "source": [
    "## Read data and perform basic EDA"
   ]
  },
  {
   "cell_type": "code",
   "execution_count": 67,
   "metadata": {
    "colab": {
     "base_uri": "https://localhost:8080/",
     "height": 204
    },
    "id": "yFo2pNYbf2Du",
    "outputId": "56a75d86-b93b-4c00-a704-417d9752e2f1"
   },
   "outputs": [
    {
     "data": {
      "text/html": [
       "<div>\n",
       "<style scoped>\n",
       "    .dataframe tbody tr th:only-of-type {\n",
       "        vertical-align: middle;\n",
       "    }\n",
       "\n",
       "    .dataframe tbody tr th {\n",
       "        vertical-align: top;\n",
       "    }\n",
       "\n",
       "    .dataframe thead th {\n",
       "        text-align: right;\n",
       "    }\n",
       "</style>\n",
       "<table border=\"1\" class=\"dataframe\">\n",
       "  <thead>\n",
       "    <tr style=\"text-align: right;\">\n",
       "      <th></th>\n",
       "      <th>titles</th>\n",
       "      <th>summaries</th>\n",
       "      <th>terms</th>\n",
       "    </tr>\n",
       "  </thead>\n",
       "  <tbody>\n",
       "    <tr>\n",
       "      <th>0</th>\n",
       "      <td>Survey on Semantic Stereo Matching / Semantic ...</td>\n",
       "      <td>Stereo matching is one of the widely used tech...</td>\n",
       "      <td>['cs.CV', 'cs.LG']</td>\n",
       "    </tr>\n",
       "    <tr>\n",
       "      <th>1</th>\n",
       "      <td>FUTURE-AI: Guiding Principles and Consensus Re...</td>\n",
       "      <td>The recent advancements in artificial intellig...</td>\n",
       "      <td>['cs.CV', 'cs.AI', 'cs.LG']</td>\n",
       "    </tr>\n",
       "    <tr>\n",
       "      <th>2</th>\n",
       "      <td>Enforcing Mutual Consistency of Hard Regions f...</td>\n",
       "      <td>In this paper, we proposed a novel mutual cons...</td>\n",
       "      <td>['cs.CV', 'cs.AI']</td>\n",
       "    </tr>\n",
       "    <tr>\n",
       "      <th>3</th>\n",
       "      <td>Parameter Decoupling Strategy for Semi-supervi...</td>\n",
       "      <td>Consistency training has proven to be an advan...</td>\n",
       "      <td>['cs.CV']</td>\n",
       "    </tr>\n",
       "    <tr>\n",
       "      <th>4</th>\n",
       "      <td>Background-Foreground Segmentation for Interio...</td>\n",
       "      <td>To ensure safety in automated driving, the cor...</td>\n",
       "      <td>['cs.CV', 'cs.LG']</td>\n",
       "    </tr>\n",
       "  </tbody>\n",
       "</table>\n",
       "</div>"
      ],
      "text/plain": [
       "                                              titles  ...                        terms\n",
       "0  Survey on Semantic Stereo Matching / Semantic ...  ...           ['cs.CV', 'cs.LG']\n",
       "1  FUTURE-AI: Guiding Principles and Consensus Re...  ...  ['cs.CV', 'cs.AI', 'cs.LG']\n",
       "2  Enforcing Mutual Consistency of Hard Regions f...  ...           ['cs.CV', 'cs.AI']\n",
       "3  Parameter Decoupling Strategy for Semi-supervi...  ...                    ['cs.CV']\n",
       "4  Background-Foreground Segmentation for Interio...  ...           ['cs.CV', 'cs.LG']\n",
       "\n",
       "[5 rows x 3 columns]"
      ]
     },
     "execution_count": 67,
     "metadata": {},
     "output_type": "execute_result"
    }
   ],
   "source": [
    "arxiv_data = pd.read_csv(\n",
    "    \"https://github.com/soumik12345/multi-label-text-classification/releases/download/v0.1/arxiv_data.csv\"\n",
    ")\n",
    "arxiv_data.head()"
   ]
  },
  {
   "cell_type": "code",
   "execution_count": 69,
   "metadata": {
    "colab": {
     "base_uri": "https://localhost:8080/"
    },
    "id": "Em_8mJvUgKY-",
    "outputId": "1cac1d36-601f-4a11-9a1b-08aae3104473"
   },
   "outputs": [
    {
     "name": "stdout",
     "output_type": "stream",
     "text": [
      "There are 12999 rows in the dataset.\n"
     ]
    }
   ],
   "source": [
    "print(f\"There are {len(arxiv_data)} rows in the dataset.\")"
   ]
  },
  {
   "cell_type": "code",
   "execution_count": 18,
   "metadata": {
    "colab": {
     "base_uri": "https://localhost:8080/"
    },
    "id": "TmgkCCr2g0w5",
    "outputId": "b5e5ceab-c1b4-4cfe-9631-bf7ac6c74fb1"
   },
   "outputs": [
    {
     "data": {
      "text/plain": [
       "552"
      ]
     },
     "execution_count": 18,
     "metadata": {},
     "output_type": "execute_result"
    }
   ],
   "source": [
    "# There are some terms who occurence is as low as 1.\n",
    "sum(arxiv_data[\"terms\"].value_counts() == 1)"
   ]
  },
  {
   "cell_type": "code",
   "execution_count": 19,
   "metadata": {
    "colab": {
     "base_uri": "https://localhost:8080/"
    },
    "id": "hyBJNHMdifJ-",
    "outputId": "2d9a112f-0b1e-43f9-c7c0-4d9c166ed412"
   },
   "outputs": [
    {
     "data": {
      "text/plain": [
       "960"
      ]
     },
     "execution_count": 19,
     "metadata": {},
     "output_type": "execute_result"
    }
   ],
   "source": [
    "# How many unique terms?\n",
    "arxiv_data[\"terms\"].nunique()"
   ]
  },
  {
   "cell_type": "code",
   "execution_count": 20,
   "metadata": {
    "colab": {
     "base_uri": "https://localhost:8080/"
    },
    "id": "77ZoCzrMhLxc",
    "outputId": "82e38fa6-7873-4141-8698-324273d6ca1f"
   },
   "outputs": [
    {
     "data": {
      "text/plain": [
       "(12447, 3)"
      ]
     },
     "execution_count": 20,
     "metadata": {},
     "output_type": "execute_result"
    }
   ],
   "source": [
    "# Filtering the rare terms.\n",
    "arxiv_data_filtered = arxiv_data.groupby(\"terms\").filter(lambda x: len(x) > 1)\n",
    "arxiv_data_filtered.shape"
   ]
  },
  {
   "cell_type": "markdown",
   "metadata": {
    "id": "MxrG9tim0QNr"
   },
   "source": [
    "## Convert the string labels to list of strings. \n",
    "\n",
    "The initial labels are represented as raw strings. Here we make them `List[str]` for a more compact representation. "
   ]
  },
  {
   "cell_type": "code",
   "execution_count": 22,
   "metadata": {
    "colab": {
     "base_uri": "https://localhost:8080/"
    },
    "id": "LIEGLc61iwbQ",
    "outputId": "afd44c0e-fbd8-4b41-af71-9d72689d3238"
   },
   "outputs": [
    {
     "data": {
      "text/plain": [
       "array([list(['cs.CV', 'cs.LG']), list(['cs.CV', 'cs.AI', 'cs.LG']),\n",
       "       list(['cs.CV', 'cs.AI']), list(['cs.CV']),\n",
       "       list(['cs.CV', 'cs.LG'])], dtype=object)"
      ]
     },
     "execution_count": 22,
     "metadata": {},
     "output_type": "execute_result"
    }
   ],
   "source": [
    "arxiv_data_filtered[\"terms\"] = arxiv_data_filtered[\"terms\"].apply(\n",
    "    lambda x: literal_eval(x)\n",
    ")\n",
    "arxiv_data_filtered[\"terms\"].values[:5]"
   ]
  },
  {
   "cell_type": "markdown",
   "metadata": {
    "id": "zjFB8Uoo0cXM"
   },
   "source": [
    "## Stratified splits because of class imbalance"
   ]
  },
  {
   "cell_type": "code",
   "execution_count": 23,
   "metadata": {
    "colab": {
     "base_uri": "https://localhost:8080/"
    },
    "id": "EbKDVTKPgOKe",
    "outputId": "b01ddc48-7107-4f99-f5e6-760bbfe156dc"
   },
   "outputs": [
    {
     "data": {
      "text/plain": [
       "((11202, 3), (1245, 3))"
      ]
     },
     "execution_count": 23,
     "metadata": {},
     "output_type": "execute_result"
    }
   ],
   "source": [
    "val_split = 0.1\n",
    "\n",
    "train_df, val_df = train_test_split(\n",
    "    arxiv_data_filtered,\n",
    "    test_size=val_split,\n",
    "    stratify=arxiv_data_filtered[\"terms\"].values,\n",
    ")\n",
    "\n",
    "train_df.shape, val_df.shape"
   ]
  },
  {
   "cell_type": "markdown",
   "metadata": {
    "id": "96Ew2PPI0lVc"
   },
   "source": [
    "## Multi-label binarization"
   ]
  },
  {
   "cell_type": "code",
   "execution_count": 27,
   "metadata": {
    "colab": {
     "base_uri": "https://localhost:8080/"
    },
    "id": "1vgxbdwGf07E",
    "outputId": "15d6a1f3-3b4c-45ac-ab4e-40168f130edc"
   },
   "outputs": [
    {
     "data": {
      "text/plain": [
       "array(['05B45, 62H30, 54E05, 68T10', '26A33',\n",
       "       '49-06 (Primary), 49-11(Secondary)', '49Q10, 62H35', '54E40',\n",
       "       '60D05, 62C99', '60G40, 65C60, 68T99', '62H30', '62P10, 62F15',\n",
       "       '62P99', '65K05, 62F10, 65D19', '65K10, 68T45', '65Kxx, 65Yxx',\n",
       "       '65Z05', '68', '68-06', '68R10, 05C50, 65F15, 65T50, 68T05, 62H30',\n",
       "       '68T01', '68T05', '68T05, 68T45', '68T07', '68T10', '68T30',\n",
       "       '68T45', '68T45 (Primary) 68T07 (Secondary)', '68T50, 68T05',\n",
       "       '68U01', '68U10', '68U10 (Primary) 94A08, 54H30 (Secondary)',\n",
       "       '68U10, 05C85', '68U10, 62M05, 62H30, 65C20', '68U10, 68W99',\n",
       "       '94A08, 68U10, 65K10, 35K55, 49Q10', '97R40', 'C.1.3',\n",
       "       'C.4; I.2.6; I.2.10; I.4.6; I.4.9; J.4',\n",
       "       'Computing methodologies for image processing',\n",
       "       'E.1; I.4; I.5; I.6', 'F.2.2', 'G.1.0; G.1.6', 'G.1.6', 'I.2',\n",
       "       'I.2.0; I.5.0', 'I.2.1, I.4.6,', 'I.2.10',\n",
       "       'I.2.10; I.2.10; I.2.1; I.4.6; I.4.7; I.4.8; I.4.9; I.5.2; I.5.5',\n",
       "       'I.2.10; I.2.6', 'I.2.10; I.4.4; I.5.4', 'I.2.10; I.4.8',\n",
       "       'I.2.10; I.4.9', 'I.2.10; I.4; I.5', 'I.2.6',\n",
       "       'I.2.6; I.2.10; I.4.9; I.5.1; I.5.4', 'I.2.6; I.2.10; I.5.0; J.4',\n",
       "       'I.2.6; I.4.6; I.5.5', 'I.2.6; I.5.1; I.5.4; I.4.6', 'I.2.7',\n",
       "       'I.2; I.4', 'I.4', 'I.4.0; I.2.6', 'I.4.0; I.5.4', 'I.4.3; I.4.4',\n",
       "       'I.4.6', 'I.4.6, I.5.4', 'I.4.6; G.1.8',\n",
       "       'I.4.6; I.2.10; I.5.0; I.3.0; E.0', 'I.4.6; I.2.6',\n",
       "       'I.4.6; I.2.6; I.5.4; I.5.1', 'I.4.6; I.4.3', 'I.4.6; I.4.5',\n",
       "       'I.4.6; I.5.1', 'I.4.6; I.5.4', 'I.4.6; J.2', 'I.4.7',\n",
       "       'I.4.7; I.4.6; G.2.2; I.2.10; G.1.2', 'I.4.7; I.4.8; I.5.1',\n",
       "       'I.4.8',\n",
       "       'I.4.8; I.4.6; I.4.0; I.2.9; I.2.10; J.2.; I.5.5; I.5.4; I.4.9',\n",
       "       'I.4.8; I.4.9; I.2.10', 'I.4.9; I.4.10', 'I.4.9; I.5.4',\n",
       "       'I.4.m, I.5.4, I.5.1, I.2.1', 'I.4; I.2', 'I.4; I.5',\n",
       "       'I.5.1; I.2.1; I.5.3; J.3; G.1.6', 'I.5.4',\n",
       "       'I.5; I.5.4; I.4; I.4.6; I.4.8; I.4.9', 'J.3', 'J.6; J.0',\n",
       "       'astro-ph', 'cond-mat.dis-nn', 'cond-mat.mtrl-sci',\n",
       "       'cond-mat.soft', 'cond-mat.stat-mech', 'cs.AI', 'cs.AR', 'cs.CE',\n",
       "       'cs.CG', 'cs.CL', 'cs.CR', 'cs.CV', 'cs.CY', 'cs.DB', 'cs.DC',\n",
       "       'cs.DM', 'cs.DS', 'cs.GR', 'cs.GT', 'cs.HC', 'cs.IR', 'cs.IT',\n",
       "       'cs.LG', 'cs.MA', 'cs.MM', 'cs.NA', 'cs.NE', 'cs.NI', 'cs.PF',\n",
       "       'cs.PL', 'cs.RO', 'cs.SD', 'cs.SE', 'cs.SI', 'cs.SY', 'eess.AS',\n",
       "       'eess.IV', 'eess.SP', 'eess.SY', 'hep-ex', 'math.AP', 'math.IT',\n",
       "       'math.NA', 'math.OC', 'math.PR', 'math.RA', 'math.ST',\n",
       "       'physics.app-ph', 'physics.chem-ph', 'physics.comp-ph',\n",
       "       'physics.data-an', 'physics.geo-ph', 'physics.ins-det',\n",
       "       'physics.med-ph', 'physics.optics', 'q-bio.BM', 'q-bio.GN',\n",
       "       'q-bio.MN', 'q-bio.NC', 'q-bio.QM', 'q-bio.TO', 'q-fin.CP',\n",
       "       'q-fin.ST', 'quant-ph', 'stat.AP', 'stat.CO', 'stat.ME', 'stat.ML',\n",
       "       'stat.TH'], dtype=object)"
      ]
     },
     "execution_count": 27,
     "metadata": {},
     "output_type": "execute_result"
    }
   ],
   "source": [
    "mlb = MultiLabelBinarizer()\n",
    "mlb.fit_transform(train_df[\"terms\"])\n",
    "mlb.classes_"
   ]
  },
  {
   "cell_type": "markdown",
   "metadata": {
    "id": "a2kFVBCG0oXV"
   },
   "source": [
    "## Data preprocessing and `tf.data.Dataset` objects\n",
    "\n",
    "Get percentile estimates of the sequence lengths. "
   ]
  },
  {
   "cell_type": "code",
   "execution_count": 24,
   "metadata": {
    "colab": {
     "base_uri": "https://localhost:8080/"
    },
    "id": "kCR-_Iw3gyT-",
    "outputId": "47d0c2bc-c03b-443a-a854-729fa7a46067"
   },
   "outputs": [
    {
     "data": {
      "text/plain": [
       "count    11202.000000\n",
       "mean       159.733976\n",
       "std         40.835108\n",
       "min          5.000000\n",
       "25%        132.000000\n",
       "50%        158.000000\n",
       "75%        186.000000\n",
       "max        292.000000\n",
       "Name: summaries, dtype: float64"
      ]
     },
     "execution_count": 24,
     "metadata": {},
     "output_type": "execute_result"
    }
   ],
   "source": [
    "train_df[\"summaries\"].apply(lambda x: len(x.split(\" \"))).describe()"
   ]
  },
  {
   "cell_type": "markdown",
   "metadata": {
    "id": "2rdivJop02xG"
   },
   "source": [
    "Notice that 50% of the abstracts have a length of 158. So, any number near that is a good approximate for the maximum sequence length. "
   ]
  },
  {
   "cell_type": "code",
   "execution_count": 30,
   "metadata": {
    "id": "QoMgEZrtVBDS"
   },
   "outputs": [],
   "source": [
    "max_seqlen = 150\n",
    "batch_size = 128\n",
    "\n",
    "\n",
    "def unify_text_length(text, label):\n",
    "    unified_text = tf.strings.substr(text, 0, max_seqlen)\n",
    "    return tf.expand_dims(unified_text, -1), label\n",
    "\n",
    "\n",
    "def make_dataset(dataframe, train=True):\n",
    "    label_binarized = mlb.transform(dataframe[\"terms\"].values)\n",
    "    dataset = tf.data.Dataset.from_tensor_slices(\n",
    "        (dataframe[\"summaries\"].values, label_binarized)\n",
    "    )\n",
    "    if train:\n",
    "        dataset = dataset.shuffle(batch_size * 10)\n",
    "    dataset = dataset.map(unify_text_length).cache()\n",
    "    return dataset.batch(batch_size).prefetch(tf.data.AUTOTUNE)"
   ]
  },
  {
   "cell_type": "code",
   "execution_count": 31,
   "metadata": {
    "id": "F_vrgkCXrWOS"
   },
   "outputs": [],
   "source": [
    "train_dataset = make_dataset(train_df)\n",
    "validation_dataset = make_dataset(val_df)"
   ]
  },
  {
   "cell_type": "markdown",
   "metadata": {
    "id": "-1Bb4Xnm1EwK"
   },
   "source": [
    "## Dataset preview"
   ]
  },
  {
   "cell_type": "code",
   "execution_count": 46,
   "metadata": {
    "colab": {
     "base_uri": "https://localhost:8080/"
    },
    "id": "w-8k7gScVoz6",
    "outputId": "78ffcba1-795e-4a7e-c945-4b54523d87e8"
   },
   "outputs": [
    {
     "name": "stdout",
     "output_type": "stream",
     "text": [
      "Abstract: b'We study the effect of the stochastic gradient noise on the training of\\ngenerative adversarial networks (GANs) and show that it can prevent the\\nconver'\n",
      "Label(s): ('cs.LG', 'math.OC', 'stat.ML')\n",
      " \n",
      "Abstract: b'Sensitive medical data is often subject to strict usage constraints. In this\\npaper, we trained a generative adversarial network (GAN) on real-world\\nel'\n",
      "Label(s): ('cs.LG',)\n",
      " \n",
      "Abstract: b'Popular rotated detection methods usually use five parameters (coordinates of\\nthe central point, width, height, and rotation angle) to describe the ro'\n",
      "Label(s): ('cs.CV',)\n",
      " \n",
      "Abstract: b'FPN is a common component used in object detectors, it supplements\\nmulti-scale information by adjacent level features interpolation and summation.\\nHow'\n",
      "Label(s): ('cs.CV',)\n",
      " \n",
      "Abstract: b'Data for Image segmentation models can be costly to obtain due to the\\nprecision required by human annotators. We run a series of experiments showing\\nt'\n",
      "Label(s): ('cs.CV',)\n",
      " \n"
     ]
    }
   ],
   "source": [
    "text_batch, label_batch = next(iter(train_dataset))\n",
    "\n",
    "for i, text in enumerate(text_batch[:5]):\n",
    "    label = label_batch[i].numpy()[None, ...]\n",
    "    print(f\"Abstract: {text[0]}\")\n",
    "    print(f\"Label(s): {mlb.inverse_transform(label)[0]}\")\n",
    "    print(\" \")"
   ]
  },
  {
   "cell_type": "markdown",
   "metadata": {
    "id": "Yfbnoi-y1IoB"
   },
   "source": [
    "## Vocabulary size for vectorization"
   ]
  },
  {
   "cell_type": "code",
   "execution_count": 61,
   "metadata": {
    "colab": {
     "base_uri": "https://localhost:8080/"
    },
    "id": "IIW42KOgyfE7",
    "outputId": "a7199880-51f4-46ad-99fc-507c95baaec8"
   },
   "outputs": [
    {
     "name": "stderr",
     "output_type": "stream",
     "text": [
      "/usr/local/lib/python3.7/dist-packages/ipykernel_launcher.py:1: SettingWithCopyWarning: \n",
      "A value is trying to be set on a copy of a slice from a DataFrame.\n",
      "Try using .loc[row_indexer,col_indexer] = value instead\n",
      "\n",
      "See the caveats in the documentation: https://pandas.pydata.org/pandas-docs/stable/user_guide/indexing.html#returning-a-view-versus-a-copy\n",
      "  \"\"\"Entry point for launching an IPython kernel.\n"
     ]
    },
    {
     "data": {
      "text/plain": [
       "316"
      ]
     },
     "execution_count": 61,
     "metadata": {},
     "output_type": "execute_result"
    }
   ],
   "source": [
    "train_df[\"total_words\"] = train_df[\"summaries\"].str.split().str.len()\n",
    "train_df[\"total_words\"].max()"
   ]
  },
  {
   "cell_type": "markdown",
   "metadata": {
    "id": "3TBUFHm11M3G"
   },
   "source": [
    "## Create model with `TextVectorization`"
   ]
  },
  {
   "cell_type": "code",
   "execution_count": 65,
   "metadata": {
    "id": "4XX7ovyPokNs"
   },
   "outputs": [],
   "source": [
    "vocabulary_size = train_df[\"total_words\"].max()\n",
    "text_vectorizer = layers.TextVectorization(\n",
    "    max_tokens=vocabulary_size, ngrams=2, output_mode=\"tf_idf\"\n",
    ")\n",
    "\n",
    "with tf.device(\"/CPU:0\"):\n",
    "    text_vectorizer.adapt(train_dataset.map(lambda text, label: text))\n",
    "\n",
    "\n",
    "def make_model():\n",
    "    shallow_mlp_model = keras.Sequential(\n",
    "        [\n",
    "            keras.Input(shape=(), dtype=tf.string),\n",
    "            text_vectorizer,\n",
    "            layers.Dense(512, activation=\"relu\"),\n",
    "            layers.Dense(256, activation=\"relu\"),\n",
    "            layers.Dense(len(mlb.classes_), activation=\"softmax\"),\n",
    "        ]\n",
    "    )\n",
    "    return shallow_mlp_model"
   ]
  },
  {
   "cell_type": "markdown",
   "metadata": {
    "id": "i7i71RLtugUs"
   },
   "source": [
    "With the CPU placement, we run into: \n",
    "\n",
    "```\n",
    "(1) Invalid argument: During Variant Host->Device Copy: non-DMA-copy attempted of tensor type: string\n",
    "```"
   ]
  },
  {
   "cell_type": "code",
   "execution_count": 66,
   "metadata": {
    "colab": {
     "base_uri": "https://localhost:8080/"
    },
    "id": "58tUdCsQuI1P",
    "outputId": "1a24396a-0723-48f7-ebcc-4c9da9b89bd9"
   },
   "outputs": [
    {
     "name": "stdout",
     "output_type": "stream",
     "text": [
      "Model: \"sequential_4\"\n",
      "_________________________________________________________________\n",
      "Layer (type)                 Output Shape              Param #   \n",
      "=================================================================\n",
      "text_vectorization_7 (TextVe (None, 316)               1         \n",
      "_________________________________________________________________\n",
      "dense_11 (Dense)             (None, 512)               162304    \n",
      "_________________________________________________________________\n",
      "dense_12 (Dense)             (None, 256)               131328    \n",
      "_________________________________________________________________\n",
      "dense_13 (Dense)             (None, 158)               40606     \n",
      "=================================================================\n",
      "Total params: 334,239\n",
      "Trainable params: 334,238\n",
      "Non-trainable params: 1\n",
      "_________________________________________________________________\n"
     ]
    }
   ],
   "source": [
    "shallow_mlp_model = make_model()\n",
    "shallow_mlp_model.summary()"
   ]
  },
  {
   "cell_type": "markdown",
   "metadata": {
    "id": "y1Hr9D0O1Tw0"
   },
   "source": [
    "## Train the model"
   ]
  },
  {
   "cell_type": "code",
   "execution_count": 64,
   "metadata": {
    "colab": {
     "base_uri": "https://localhost:8080/"
    },
    "id": "WCoaRkA-wsC3",
    "outputId": "146d85e4-514e-42fc-a191-9058e039caa6"
   },
   "outputs": [
    {
     "name": "stdout",
     "output_type": "stream",
     "text": [
      "Epoch 1/20\n",
      "88/88 [==============================] - 1s 6ms/step - loss: 0.0635 - categorical_accuracy: 0.6246 - val_loss: 0.0198 - val_categorical_accuracy: 0.6988\n",
      "Epoch 2/20\n",
      "88/88 [==============================] - 0s 5ms/step - loss: 0.0211 - categorical_accuracy: 0.6914 - val_loss: 0.0190 - val_categorical_accuracy: 0.7052\n",
      "Epoch 3/20\n",
      "88/88 [==============================] - 1s 6ms/step - loss: 0.0201 - categorical_accuracy: 0.6954 - val_loss: 0.0188 - val_categorical_accuracy: 0.7028\n",
      "Epoch 4/20\n",
      "88/88 [==============================] - 0s 6ms/step - loss: 0.0194 - categorical_accuracy: 0.6979 - val_loss: 0.0186 - val_categorical_accuracy: 0.7044\n",
      "Epoch 5/20\n",
      "88/88 [==============================] - 0s 5ms/step - loss: 0.0188 - categorical_accuracy: 0.7009 - val_loss: 0.0185 - val_categorical_accuracy: 0.7036\n",
      "Epoch 6/20\n",
      "88/88 [==============================] - 0s 5ms/step - loss: 0.0183 - categorical_accuracy: 0.7052 - val_loss: 0.0185 - val_categorical_accuracy: 0.7020\n",
      "Epoch 7/20\n",
      "88/88 [==============================] - 0s 5ms/step - loss: 0.0177 - categorical_accuracy: 0.7081 - val_loss: 0.0184 - val_categorical_accuracy: 0.6956\n",
      "Epoch 8/20\n",
      "88/88 [==============================] - 0s 5ms/step - loss: 0.0171 - categorical_accuracy: 0.7120 - val_loss: 0.0185 - val_categorical_accuracy: 0.6980\n",
      "Epoch 9/20\n",
      "88/88 [==============================] - 0s 5ms/step - loss: 0.0164 - categorical_accuracy: 0.7154 - val_loss: 0.0185 - val_categorical_accuracy: 0.6940\n",
      "Epoch 10/20\n",
      "88/88 [==============================] - 0s 6ms/step - loss: 0.0157 - categorical_accuracy: 0.7210 - val_loss: 0.0186 - val_categorical_accuracy: 0.6924\n",
      "Epoch 11/20\n",
      "88/88 [==============================] - 0s 5ms/step - loss: 0.0151 - categorical_accuracy: 0.7228 - val_loss: 0.0188 - val_categorical_accuracy: 0.6908\n",
      "Epoch 12/20\n",
      "88/88 [==============================] - 0s 6ms/step - loss: 0.0144 - categorical_accuracy: 0.7280 - val_loss: 0.0189 - val_categorical_accuracy: 0.6972\n",
      "Epoch 13/20\n",
      "88/88 [==============================] - 0s 5ms/step - loss: 0.0137 - categorical_accuracy: 0.7320 - val_loss: 0.0193 - val_categorical_accuracy: 0.7004\n",
      "Epoch 14/20\n",
      "88/88 [==============================] - 0s 5ms/step - loss: 0.0131 - categorical_accuracy: 0.7359 - val_loss: 0.0197 - val_categorical_accuracy: 0.6956\n",
      "Epoch 15/20\n",
      "88/88 [==============================] - 0s 5ms/step - loss: 0.0124 - categorical_accuracy: 0.7390 - val_loss: 0.0201 - val_categorical_accuracy: 0.6964\n",
      "Epoch 16/20\n",
      "88/88 [==============================] - 0s 5ms/step - loss: 0.0118 - categorical_accuracy: 0.7399 - val_loss: 0.0206 - val_categorical_accuracy: 0.6972\n",
      "Epoch 17/20\n",
      "88/88 [==============================] - 0s 5ms/step - loss: 0.0114 - categorical_accuracy: 0.7376 - val_loss: 0.0213 - val_categorical_accuracy: 0.7020\n",
      "Epoch 18/20\n",
      "88/88 [==============================] - 0s 5ms/step - loss: 0.0123 - categorical_accuracy: 0.7250 - val_loss: 0.0217 - val_categorical_accuracy: 0.7133\n",
      "Epoch 19/20\n",
      "88/88 [==============================] - 0s 5ms/step - loss: 0.0109 - categorical_accuracy: 0.7365 - val_loss: 0.0210 - val_categorical_accuracy: 0.6819\n",
      "Epoch 20/20\n",
      "88/88 [==============================] - 0s 5ms/step - loss: 0.0102 - categorical_accuracy: 0.7401 - val_loss: 0.0224 - val_categorical_accuracy: 0.6530\n"
     ]
    },
    {
     "data": {
      "text/plain": [
       "<keras.callbacks.History at 0x7f95f6706510>"
      ]
     },
     "execution_count": 64,
     "metadata": {},
     "output_type": "execute_result"
    }
   ],
   "source": [
    "epochs = 20\n",
    "\n",
    "shallow_mlp_model.compile(\n",
    "    loss=\"binary_crossentropy\", optimizer=\"adam\", metrics=[\"categorical_accuracy\"]\n",
    ")\n",
    "\n",
    "shallow_mlp_model.fit(train_dataset, validation_data=validation_dataset, epochs=epochs)"
   ]
  }
 ],
 "metadata": {
  "accelerator": "GPU",
  "colab": {
   "collapsed_sections": [],
   "name": "multi-label-trainer.ipynb",
   "provenance": []
  },
  "kernelspec": {
   "display_name": "Python 3 (ipykernel)",
   "language": "python",
   "name": "python3"
  },
  "language_info": {
   "codemirror_mode": {
    "name": "ipython",
    "version": 3
   },
   "file_extension": ".py",
   "mimetype": "text/x-python",
   "name": "python",
   "nbconvert_exporter": "python",
   "pygments_lexer": "ipython3",
   "version": "3.8.2"
  }
 },
 "nbformat": 4,
 "nbformat_minor": 1
}
